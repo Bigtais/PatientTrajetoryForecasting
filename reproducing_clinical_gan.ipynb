{
 "cells": [
  {
   "cell_type": "code",
   "execution_count": 4,
   "id": "ff8d3b3d-d942-465a-9724-cecc7cac6c99",
   "metadata": {},
   "outputs": [],
   "source": [
    "# helper Module to convert tensor of input indices into corresponding tensor of token embeddings\n",
    "import math\n",
    "import torch\n",
    "import torch.nn as nn\n",
    "from torch.nn import Transformer\n",
    "from dataclasses import dataclass"
   ]
  },
  {
   "cell_type": "code",
   "execution_count": 22,
   "id": "86e3e11f-861e-4b8c-aee1-ba784ee580e8",
   "metadata": {},
   "outputs": [],
   "source": [
    "from torch.optim.lr_scheduler import _LRScheduler"
   ]
  },
  {
   "cell_type": "code",
   "execution_count": 24,
   "id": "8b2ffd41-7632-49c8-b26d-404df0d708d8",
   "metadata": {},
   "outputs": [],
   "source": [
    "class NoamLR(_LRScheduler):\n",
    "    \"\"\"\n",
    "    # source: https://github.com/tugstugi/pytorch-saltnet/blob/master/utils/lr_scheduler.py\n",
    "    \n",
    "    Implements the Noam Learning rate schedule. This corresponds to increasing the learning rate\n",
    "    linearly for the first ``warmup_steps`` training steps, and decreasing it thereafter proportionally\n",
    "    to the inverse square root of the step number, scaled by the inverse square root of the\n",
    "    dimensionality of the model. Time will tell if this is just madness or it's actually important.\n",
    "    Parameters\n",
    "    ----------\n",
    "    warmup_steps: ``int``, required.\n",
    "        The number of steps to linearly increase the learning rate.\n",
    "    \"\"\"\n",
    "    def __init__(self, optimizer, warmup_steps):\n",
    "        self.warmup_steps = warmup_steps\n",
    "        super().__init__(optimizer)\n",
    "\n",
    "    def get_lr(self):\n",
    "        last_epoch = max(1, self.last_epoch)\n",
    "        scale = self.warmup_steps ** 0.5 * min(last_epoch ** (-0.5), last_epoch * self.warmup_steps ** (-1.5))\n",
    "        return [base_lr * scale for base_lr in self.base_lrs]"
   ]
  },
  {
   "cell_type": "code",
   "execution_count": 145,
   "id": "22b2f1bd-5afb-4dde-8bbb-a4a272394c11",
   "metadata": {},
   "outputs": [],
   "source": [
    "def get_sequences(model, dataloader : torch.utils.data.dataloader.DataLoader,  source_pad_id : int = 0, tgt_tokens_to_ids : Dict[str, int] =  None, max_len : int = 150,  DEVICE : str ='cuda:0'):\n",
    "    \"\"\"\n",
    "    return relevant forcasted and sequences made by the model on the dataset.\n",
    "\n",
    "    Args:\n",
    "        model (torch.nn.Module): The model to be evaluated.\n",
    "        val_dataloader (torch.utils.data.DataLoader): The validation dataloader.\n",
    "        source_pad_id (int, optional): The padding token ID for the source input. Defaults to 0.\n",
    "        DEVICE (str, optional): The device to run the evaluation on. Defaults to 'cuda:0'.\n",
    "        tgt_tokens_to_ids (dict, optional): A dictionary mapping target tokens to their IDs. Defaults to None.\n",
    "        max_len (int, optional): The maximum length of the generated target sequence. Defaults to 100.\n",
    "    Returns:\n",
    "        List[List[int]], List[List[int]]: The list of relevant and forecasted sequences.\n",
    "    \"\"\"\n",
    "\n",
    "    model.eval()\n",
    "    pred_trgs = []\n",
    "    targets = []\n",
    "    no_eov = {'pred_trgs':[], 'target':[]}\n",
    "    with torch.inference_mode():\n",
    "        for source_input_ids, target_input_ids in tqdm(dataloader, desc='scoring'):\n",
    "            batch_pred_trgs = []\n",
    "            batch_targets = []\n",
    "            source_input_ids, target_input_ids = source_input_ids.to(DEVICE),target_input_ids.to(DEVICE)\n",
    "            src_mask, source_padding_mask = create_source_mask(source_input_ids, source_pad_id, DEVICE) \n",
    "            memory = model.batch_encode(source_input_ids, src_mask, source_padding_mask)\n",
    "            pred_trg = torch.tensor(tgt_tokens_to_ids['BOS'], device= DEVICE).repeat(source_input_ids.size(0)).unsqueeze(1)\n",
    "            # generate target sequence one token at a time at batch level\n",
    "            for i in range(max_len):\n",
    "                trg_mask = generate_square_subsequent_mask(i+1, DEVICE)\n",
    "                output = model.decode(pred_trg, memory, trg_mask)\n",
    "                probs = model.generator(output[:, -1])\n",
    "                pred_tokens = torch.argmax(probs, dim=1)\n",
    "                eov_mask = pred_tokens == tgt_tokens_to_ids['EOV']\n",
    "                if eov_mask.any():\n",
    "                    # extend with sequences that have reached EOV\n",
    "                    batch_pred_trgs.extend(torch.cat((pred_trg[eov_mask],torch.tensor(tgt_tokens_to_ids['EOV'], device = DEVICE).unsqueeze(0).repeat(eov_mask.sum(), 1)),dim = -1).cpu().tolist())\n",
    "                    batch_targets.extend(target_input_ids[eov_mask].cpu().tolist())\n",
    "                    # store corresponding target sequences\n",
    "                    target_input_ids = target_input_ids[~eov_mask]\n",
    "                    # break if all have reached EOV\n",
    "                    if eov_mask.all():\n",
    "                        break  \n",
    "                    pred_trg = torch.cat((pred_trg[~eov_mask], pred_tokens[~eov_mask].unsqueeze(1)), dim=1)\n",
    "                    memory = memory[~eov_mask]\n",
    "                else:\n",
    "                    pred_trg = torch.cat((pred_trg, pred_tokens.unsqueeze(1)), dim=1)\n",
    "            if len(dataloader) != len(batch_pred_trgs):\n",
    "                #print(f'len before{len(batch_pred_trgs)}')\n",
    "                batch_pred_trgs.extend(pred_trg.cpu().tolist())\n",
    "                batch_targets.extend(target_input_ids.cpu().tolist())\n",
    "            pred_trgs.extend(batch_pred_trgs)\n",
    "            targets.extend(batch_targets)\n",
    "                \n",
    "                \n",
    "    return pred_trgs, targets"
   ]
  },
  {
   "cell_type": "code",
   "execution_count": 163,
   "id": "983ea62e-c179-48f1-b23f-d8b67cb8bce2",
   "metadata": {},
   "outputs": [],
   "source": [
    "def get_gen_loss(crit_fake_pred):\n",
    "    return  (-torch.mean(crit_fake_pred))\n",
    "\n",
    "def get_crit_loss(crit_fake_pred, crit_real_pred):\n",
    "    return  torch.mean(crit_real_pred) - torch.mean(crit_fake_pred)"
   ]
  },
  {
   "cell_type": "code",
   "execution_count": 32,
   "id": "4bcbdcda-3b58-4040-9ec3-5fea87d3b762",
   "metadata": {},
   "outputs": [],
   "source": [
    "@dataclass\n",
    "class DataConfig:\n",
    "    strategy : str = 'SDP'\n",
    "    seed : int = 213033\n",
    "    test_size : float = 0.05\n",
    "    valid_size : float = 0.10\n",
    "    predict_procedure : bool = None\n",
    "    predict_drugs : bool = None\n",
    "    input_max_length :int = 448\n",
    "    target_max_length :int = 64\n",
    "    source_vocab_size : int = None\n",
    "    target_vocab_size : int = None\n",
    "    target_pad_id : int = 0\n",
    "    source_pad_id : int = 0\n",
    "    batch_size : int = 4\n"
   ]
  },
  {
   "cell_type": "code",
   "execution_count": 33,
   "id": "8d50607a-bf41-4d3b-893e-5c63f7d6c9f7",
   "metadata": {},
   "outputs": [],
   "source": [
    "@dataclass\n",
    "class Config():\n",
    "    gen_nlayers : int = 3\n",
    "    gen_nheads : int = 8\n",
    "    disc_nlayers : int = 1\n",
    "    disc_nheads : int = 4\n",
    "    ffn_hid_dim : int = 512\n",
    "    hid_dim : int = 256\n",
    "    dropout : float = 0.1\n",
    "    label_smoothing : float = 0.0\n",
    "    disc_clip : float = 0.1\n",
    "    gen_clip : float = 1.0\n",
    "    alpha : float = 0.3\n",
    "    learning_rate : float = 4e-4\n",
    "    warmup_steps : int = 30\n",
    "    factor : int = 1\n",
    "\n",
    "\n",
    "config = Config()\n",
    "data_config = DataConfig()"
   ]
  },
  {
   "cell_type": "code",
   "execution_count": 18,
   "id": "19408f96-7064-4fe4-b9f8-2fbcd24bd042",
   "metadata": {},
   "outputs": [],
   "source": [
    "DEVICE = torch.device(\"cuda:0\" if torch.cuda.is_available() else \"cpu\")"
   ]
  },
  {
   "cell_type": "code",
   "execution_count": 66,
   "id": "8e27defd-3441-480f-a8d4-1cc90e1c18cc",
   "metadata": {},
   "outputs": [],
   "source": [
    "generator = Generator(num_encoder_layers = config.gen_nlayers, num_decoder_layers = config.gen_nlayers,\n",
    "                                  emb_size = config.hid_dim, nhead = config.gen_nheads, \n",
    "                                  src_vocab_size = data_config.source_vocab_size, tgt_vocab_size = data_config.target_vocab_size,\n",
    "                                  dim_feedforward = config.ffn_hid_dim,\n",
    "                                  dropout = config.dropout)\n",
    "\n",
    "for p in generator.parameters():\n",
    "    if p.dim() > 1:\n",
    "        nn.init.xavier_uniform_(p)\n",
    "\n",
    "\n",
    "generator = generator.to(DEVICE)"
   ]
  },
  {
   "cell_type": "code",
   "execution_count": 158,
   "id": "0102289c-f1ed-435e-8e75-58c6f8bdf141",
   "metadata": {},
   "outputs": [],
   "source": [
    "class PositionalEncoding(nn.Module):\n",
    "    def __init__(self,\n",
    "                 emb_size: int,\n",
    "                 dropout: float,\n",
    "                 maxlen: int = 5000):\n",
    "        super(PositionalEncoding, self).__init__()\n",
    "        den = torch.exp(- torch.arange(0, emb_size, 2)* math.log(10000) / emb_size)\n",
    "        pos = torch.arange(0, maxlen).reshape(maxlen, 1)\n",
    "        pos_embedding = torch.zeros((maxlen, emb_size))\n",
    "        pos_embedding[:, 0::2] = torch.sin(pos * den)\n",
    "        pos_embedding[:, 1::2] = torch.cos(pos * den)\n",
    "        pos_embedding = pos_embedding.unsqueeze(-2)\n",
    "\n",
    "        self.dropout = nn.Dropout(dropout)\n",
    "        self.register_buffer('pos_embedding', pos_embedding)\n",
    "\n",
    "    def forward(self, token_embedding: torch.Tensor):\n",
    "        return self.dropout(token_embedding + self.pos_embedding[:token_embedding.size(0), :])\n",
    "\n",
    "class TokenEmbedding(nn.Module):\n",
    "    def __init__(self, vocab_size: int, emb_size):\n",
    "        super(TokenEmbedding, self).__init__()\n",
    "        self.embedding = nn.Embedding(vocab_size, emb_size)\n",
    "        self.emb_size = emb_size\n",
    "\n",
    "    def forward(self, tokens: torch.Tensor):\n",
    "        return self.embedding(tokens.long()) * math.sqrt(self.emb_size)\n",
    "    \n",
    "\n",
    "class NoPositionalEncoding(nn.Module):\n",
    "    def __init__(self):\n",
    "        super(NoPositionalEncoding, self).__init__()\n",
    "\n",
    "    def forward(self, x):\n",
    "        return x\n",
    "    \n",
    "# Seq2Seq Network\n",
    "class Generator(nn.Module):\n",
    "    def __init__(self,\n",
    "                 num_encoder_layers: int,\n",
    "                 num_decoder_layers: int,\n",
    "                 emb_size: int,\n",
    "                 nhead: int,\n",
    "                 src_vocab_size: int,\n",
    "                 tgt_vocab_size: int,\n",
    "                 dim_feedforward: int,\n",
    "                 dropout: float = 0.1,\n",
    "                 positional_encoding : bool = True):\n",
    "        \n",
    "        super(Generator, self).__init__()\n",
    "        self.transformer = Transformer(d_model = emb_size,\n",
    "                                       nhead = nhead,\n",
    "                                       num_encoder_layers = num_encoder_layers,\n",
    "                                       num_decoder_layers = num_decoder_layers,\n",
    "                                       dim_feedforward = dim_feedforward,\n",
    "                                       dropout = dropout,\n",
    "                                       batch_first = True, norm_first = True)\n",
    "        self.generator = nn.Linear(emb_size, tgt_vocab_size)\n",
    "        self.src_tok_emb = TokenEmbedding(src_vocab_size, emb_size)\n",
    "        self.tgt_tok_emb = TokenEmbedding(tgt_vocab_size, emb_size)\n",
    "\n",
    "        self.positional_encoding = PositionalEncoding(emb_size, dropout = dropout, maxlen = max(src_vocab_size, tgt_vocab_size)+1) if positional_encoding else NoPositionalEncoding()\n",
    "\n",
    "\n",
    "    def forward(self,\n",
    "                src: torch.Tensor,\n",
    "                trg: torch.Tensor,\n",
    "                src_mask: torch.Tensor,\n",
    "                tgt_mask: torch.Tensor,\n",
    "                src_padding_mask: torch.Tensor,\n",
    "                tgt_padding_mask: torch.Tensor,\n",
    "                memory_key_padding_mask: torch.Tensor):\n",
    "        \n",
    "        outs = self.transformer(self.positional_encoding(self.src_tok_emb(src)), self.positional_encoding(self.tgt_tok_emb(trg)),\n",
    "                                src_mask, tgt_mask, None,\n",
    "                                src_padding_mask, tgt_padding_mask, memory_key_padding_mask)\n",
    "        return self.generator(outs)\n",
    "\n",
    "    def encode(self, src: torch.Tensor, src_mask: torch.Tensor):\n",
    "        \n",
    "        return self.transformer.encoder(\n",
    "                            self.positional_encoding(self.src_tok_emb(src)),  mask=src_mask)\n",
    "\n",
    "    def decode(self, tgt: torch.Tensor, memory: torch.Tensor, tgt_mask: torch.Tensor):\n",
    "        return self.transformer.decoder(\n",
    "                          self.positional_encoding(self.tgt_tok_emb(tgt)), memory = memory,\n",
    "                          tgt_mask = tgt_mask)\n",
    "    \n",
    "    # We need to add source padding mask to avoid attending to source padding tokens\n",
    "    def batch_encode(self, src: torch.Tensor, src_mask: torch.Tensor, src_key_padding_mask: torch.Tensor):\n",
    "        return self.transformer.encoder(\n",
    "                            self.positional_encoding(self.src_tok_emb(src)),  mask=src_mask, src_key_padding_mask=src_key_padding_mask)\n",
    "    # No need for batch_decode as we're generating one token at a time\n",
    "\n",
    "'''d_model, nhead, dim_feedforward=2048, dropout=0.1, activation=<function relu>, layer_norm_eps=1e-05, batch_first=False, norm_first=False, bias=True, device=None, dtype=Non'''\n",
    "class Discriminator(nn.Module):\n",
    "    def __init__(self, emb_size, nhead, dim_feedforward, dropout, vocab_size, num_layers):\n",
    "        super(Discriminator, self).__init__()\n",
    "        self.tok_emb = TokenEmbedding(vocab_size, emb_size)\n",
    "\n",
    "        self.positional_encoding = PositionalEncoding(emb_size, dropout = dropout, maxlen = vocab_size + 1)\n",
    "        self.Encoder = nn.TransformerEncoder(nn.TransformerEncoderLayer(emb_size, nhead, dim_feedforward, dropout, batch_first=True, norm_first=True), num_layers)\n",
    "        self.classifier = nn.Linear(emb_size, 1)\n",
    "\n",
    "    def forward(self, x: torch.Tensor,):\n",
    "        x = self.positional_encoding(self.tok_emb(x))\n",
    "        x = self.Encoder(x)\n",
    "        x = self.classifier(x.mean(dim=1))\n",
    "        return x\n",
    "    \n",
    "    def batch_encode(self, src: torch.Tensor, mask: torch.Tensor, key_padding_mask: torch.Tensor):\n",
    "        return self.classifier(self.Encoder(self.positional_encoding(self.tok_emb(src)),\n",
    "                                            mask = mask, src_key_padding_mask = key_padding_mask).mean(dim=1))\n",
    "    "
   ]
  },
  {
   "cell_type": "code",
   "execution_count": 159,
   "id": "88987029-e81b-44f5-8de7-5bbfda50f59e",
   "metadata": {},
   "outputs": [],
   "source": [
    "discriminator = Discriminator(emb_size = config.hid_dim, nhead = config.disc_nheads, dim_feedforward = config.ffn_hid_dim,\n",
    "                             dropout = config.dropout, vocab_size = data_config.target_vocab_size, num_layers = config.disc_nlayers)\n",
    "\n",
    "for p in discriminator.parameters():\n",
    "    if p.dim() > 1:\n",
    "        nn.init.xavier_uniform_(p)\n",
    "\n",
    "discriminator = discriminator.to(DEVICE)"
   ]
  },
  {
   "cell_type": "code",
   "execution_count": 28,
   "id": "d2fecb83-7f03-4712-983b-88eb6aaefa74",
   "metadata": {},
   "outputs": [],
   "source": [
    "gen_opt = torch.optim.Adam(generator.parameters(), lr = config.learning_rate)\n",
    "disc_opt = torch.optim.SGD(discriminator.parameters(), lr = config.learning_rate)"
   ]
  },
  {
   "cell_type": "code",
   "execution_count": 29,
   "id": "f3b3d19a-6505-4364-ac4a-093b2185c47c",
   "metadata": {},
   "outputs": [],
   "source": [
    "lr_schedulerG = NoamLR(gen_opt, warmup_steps=config.warmup_steps )\n",
    "lr_schedulerD = NoamLR(disc_opt, warmup_steps=config.warmup_steps )"
   ]
  },
  {
   "cell_type": "code",
   "execution_count": 31,
   "id": "a2328f10-8dcd-41fb-83ef-370cf0f973cc",
   "metadata": {},
   "outputs": [],
   "source": [
    "loss_fn = torch.nn.CrossEntropyLoss(ignore_index= data_config.target_pad_id, label_smoothing = config.label_smoothing)"
   ]
  },
  {
   "cell_type": "code",
   "execution_count": 35,
   "id": "7b0b159d-ebe9-4d4a-8977-d6e738998733",
   "metadata": {},
   "outputs": [
    {
     "name": "stdout",
     "output_type": "stream",
     "text": [
      "/home/sifal.klioui/PatientTrajectoryForecasting\n"
     ]
    }
   ],
   "source": [
    "cd PatientTrajectoryForecasting/"
   ]
  },
  {
   "cell_type": "code",
   "execution_count": 41,
   "id": "38fbb6cd-ea60-4236-ba28-ce976030b6f4",
   "metadata": {},
   "outputs": [
    {
     "name": "stdout",
     "output_type": "stream",
     "text": [
      "/home/sifal.klioui\n"
     ]
    }
   ],
   "source": [
    "cd .."
   ]
  },
  {
   "cell_type": "code",
   "execution_count": 42,
   "id": "8f2c6dfc-f702-4b09-bcc1-3dce22c549e5",
   "metadata": {},
   "outputs": [
    {
     "name": "stdout",
     "output_type": "stream",
     "text": [
      "new_to_old_ids_source file not availble, mapping is the same as the old on\n"
     ]
    }
   ],
   "source": [
    "train_dataloader, val_dataloader, test_dataloader, src_tokens_to_ids, tgt_tokens_to_ids, _, data_and_properties = get_data_loaders(train_batch_size=data_config.batch_size, eval_batch_size = 128,\n",
    "                                                                                                                                       pin_memory=True, **asdict(data_config))"
   ]
  },
  {
   "cell_type": "code",
   "execution_count": 43,
   "id": "e43c4382-399e-4c7d-a2a6-a73c8edfb580",
   "metadata": {},
   "outputs": [],
   "source": [
    "data_config.source_vocab_size = data_and_properties['embedding_size_source']\n",
    "data_config.target_vocab_size = data_and_properties['embedding_size_target']\n",
    "data_config.target_pad_id = tgt_tokens_to_ids['PAD']\n",
    "data_config.source_pad_id = src_tokens_to_ids['PAD']"
   ]
  },
  {
   "cell_type": "code",
   "execution_count": 120,
   "id": "068b46e3-20a1-498d-96ba-b98675bd54d5",
   "metadata": {},
   "outputs": [],
   "source": [
    "from utils.eval import mapk, get_sequences\n",
    "from utils.train import get_data_loaders\n",
    "from dataclasses import dataclass, asdict\n",
    "from typing import Dict\n",
    "from tqdm import tqdm\n",
    "from utils.train import create_source_mask, generate_square_subsequent_mask\n",
    "from torch.utils.data import TensorDataset, DataLoader"
   ]
  },
  {
   "cell_type": "code",
   "execution_count": 147,
   "id": "b1c35e82-cd43-4051-a57b-3d205ad67cc0",
   "metadata": {},
   "outputs": [
    {
     "name": "stderr",
     "output_type": "stream",
     "text": [
      "scoring:   0%|          | 0/13 [00:00<?, ?it/s]/public/conda/Miniconda/envs/pytorch-2.2/lib/python3.11/site-packages/torch/nn/functional.py:5109: UserWarning: Support for mismatched src_key_padding_mask and mask is deprecated. Use same type for both instead.\n",
      "  warnings.warn(\n",
      "scoring: 100%|██████████| 13/13 [00:10<00:00,  1.24it/s]\n"
     ]
    }
   ],
   "source": [
    "predictions, targets = get_sequences(generator, test_dataloader, data_config.target_pad_id, tgt_tokens_to_ids, max_len = 64, DEVICE = DEVICE)"
   ]
  },
  {
   "cell_type": "code",
   "execution_count": 180,
   "id": "7c3083e3-4922-4216-89b9-b42048dc131c",
   "metadata": {},
   "outputs": [],
   "source": [
    "# Convert lists to tensors\n",
    "predictions_tensor = torch.tensor(predictions, dtype=torch.float)\n",
    "targets_tensor = torch.tensor(targets, dtype=torch.float)\n",
    "\n",
    "# Create TensorDataset\n",
    "dataset = TensorDataset(predictions_tensor, targets_tensor)\n",
    "\n",
    "# Create DataLoader\n",
    "dataloader = DataLoader(dataset, batch_size=64, shuffle=True)"
   ]
  },
  {
   "cell_type": "code",
   "execution_count": 181,
   "id": "d1af2c50-0943-4cbf-848b-d9077d268a5f",
   "metadata": {},
   "outputs": [],
   "source": [
    "crit_repeats = 5"
   ]
  },
  {
   "cell_type": "code",
   "execution_count": 182,
   "id": "5f48e0d9-3a7a-4c15-b00e-efb148677e5b",
   "metadata": {},
   "outputs": [
    {
     "name": "stderr",
     "output_type": "stream",
     "text": [
      "train:   0%|          | 0/26 [00:00<?, ?it/s]"
     ]
    },
    {
     "name": "stdout",
     "output_type": "stream",
     "text": [
      "tensor(-0.0685, device='cuda:0', grad_fn=<SubBackward0>)\n",
      "tensor(-0.0942, device='cuda:0', grad_fn=<SubBackward0>)\n",
      "tensor(-0.0583, device='cuda:0', grad_fn=<SubBackward0>)\n",
      "tensor(-0.0699, device='cuda:0', grad_fn=<SubBackward0>)\n",
      "tensor(-0.1012, device='cuda:0', grad_fn=<SubBackward0>)\n"
     ]
    },
    {
     "name": "stderr",
     "output_type": "stream",
     "text": [
      "\n"
     ]
    }
   ],
   "source": [
    " for prediction, target in tqdm(dataloader, desc='train'):\n",
    "    prediction, target = prediction.to(DEVICE),target.to(DEVICE)\n",
    "    prediction_mask, prediction_padding_mask = create_source_mask(prediction, data_config.target_pad_id, DEVICE) \n",
    "    target_mask, target_padding_mask = create_source_mask(target, data_config.target_pad_id, DEVICE)\n",
    "    ## Update discriminator ##\n",
    "    DisLoss =0\n",
    "    for _ in range(crit_repeats):\n",
    "        disc_opt.zero_grad()\n",
    "        #  torch.Tensor, src_mask: torch.Tensor, src_key_padding_mask: torch.Tensor\n",
    "        crit_fake_pred = discriminator.batch_encode(prediction, prediction_mask, prediction_padding_mask)\n",
    "        crit_real_pred = discriminator.batch_encode(target, target_mask, target_padding_mask)\n",
    "        disc_loss = get_crit_loss(crit_fake_pred, crit_real_pred)\n",
    "        print(disc_loss)\n",
    "        DisLoss += disc_loss.item()/crit_repeats\n",
    "        disc_loss.backward(retain_graph=True)\n",
    "        disc_opt.step()\n",
    "        torch.nn.utils.clip_grad_value_(discriminator.parameters(), config.disc_clip)\n",
    "    break"
   ]
  },
  {
   "cell_type": "code",
   "execution_count": 169,
   "id": "35c653ee-f6f1-476e-bc3a-4eadaa6927d9",
   "metadata": {},
   "outputs": [
    {
     "data": {
      "text/plain": [
       "torch.Size([128, 1])"
      ]
     },
     "execution_count": 169,
     "metadata": {},
     "output_type": "execute_result"
    }
   ],
   "source": [
    "crit_fake_pred.shape"
   ]
  },
  {
   "cell_type": "code",
   "execution_count": null,
   "id": "d62c09cb-f89a-4fef-9df6-d6f476419e5b",
   "metadata": {},
   "outputs": [],
   "source": [
    "crit_repeats = 5\n",
    "vLoss = []\n",
    "tLoss = []\n",
    "for epoch in range(config.n_epochs):\n",
    "    totalGen = 0\n",
    "    totalDis = 0\n",
    "    generator.train()\n",
    "    discriminator.train()\n",
    "    lr_schedulerG.step()\n",
    "    lr_schedulerD.step()\n",
    "    \n",
    "    predictions, targets = get_sequences(generator, test_dataloader, data_config.target_pad_id, tgt_tokens_to_ids, max_len = 64, DEVICE = DEVICE)\n",
    "        # Convert lists to tensors\n",
    "    predictions_tensor = torch.tensor(predictions, dtype=torch.float)\n",
    "    targets_tensor = torch.tensor(targets, dtype=torch.float)\n",
    "    \n",
    "    # Create TensorDataset\n",
    "    dataset = TensorDataset(predictions_tensor, targets_tensor)\n",
    "    \n",
    "    # Create DataLoader\n",
    "    dataloader = DataLoader(dataset, batch_size=4, shuffle=True)\n",
    "    \n",
    "     for prediction, target in tqdm(dataloader, desc='train'):\n",
    "        prediction, target = prediction.to(DEVICE),target.to(DEVICE)\n",
    "        prediction_mask, prediction_padding_mask = create_source_mask(prediction, data_config.target_pad_id, DEVICE) \n",
    "        target_mask, target_padding_mask = create_source_mask(target, data_config.target_pad_id, DEVICE)\n",
    "        ## Update discriminator ##\n",
    "        DisLoss = 0\n",
    "         \n",
    "        for _ in range(crit_repeats):\n",
    "            disc_opt.zero_grad()\n",
    "            #  torch.Tensor, src_mask: torch.Tensor, src_key_padding_mask: torch.Tensor\n",
    "            crit_fake_pred = discriminator.batch_encode(prediction, prediction_mask, prediction_padding_mask)\n",
    "            crit_real_pred = discriminator.batch_encode(target, target_mask, target_padding_mask)\n",
    "            disc_loss = get_crit_loss(crit_fake_pred, crit_real_pred)\n",
    "            print(disc_loss)\n",
    "            DisLoss += disc_loss.item()/crit_repeats\n",
    "            disc_loss.backward(retain_graph=True)\n",
    "            disc_opt.step()\n",
    "            torch.nn.utils.clip_grad_value_(discriminator.parameters(), config.disc_clip)\n",
    "    \n",
    "        totalDis += DisLoss\n",
    "        ## Update generator ##\n",
    "        gen_opt.zero_grad()\n",
    "        output, _ = generator(src, trg[:,:-1])\n",
    "        _,predValues = torch.max(output,2)\n",
    "        fake = joinfakeData(pair,convertGenOutput(predValues.tolist(),reverseOutTypes))\n",
    "        fake_mask =  generator.make_src_mask(fake)\n",
    "        fake, fake_mask =fake.to(device) , fake_mask.to(device)\n",
    "        #print(f\"generator training fake :{predValues}\")\n",
    "        disc_fake_pred = discriminator(fake,fake_mask)\n",
    "        gen_loss1 = get_gen_loss(disc_fake_pred)\n",
    "\n",
    "        output_dim = output.shape[-1]\n",
    "        output = output.contiguous().view(-1, output_dim)\n",
    "        trgs = trg[:,1:].contiguous().view(-1)\n",
    "\n",
    "        gen_loss2 = criterion(output,trgs)\n",
    "        gen_loss = (alpha * gen_loss1)  +  gen_loss2\n",
    "        totalGen += gen_loss.item()\n",
    "        gen_loss.backward()\n",
    "        torch.nn.utils.clip_grad_norm_(generator.parameters(), gen_clip)\n",
    "        gen_opt.step()\n",
    "        #epoch_loss = gen_loss.item() + disc_loss.item()\n",
    "    tLoss.append(totalGen/len(trainLoader))\n",
    "    ## validating\n",
    "\n",
    "    valid_loss = evaluate(generator, valLoader, criterion,device)\n",
    "    vLoss.append(valid_loss)\n",
    "    \n",
    "\n",
    "    print(f'current learning rate : {lr_schedulerG.get_last_lr()}')\n",
    "    #print(f'current learning rate Discriminator : {lr_schedulerD.get_last_lr()}')\n",
    "    print(f'Epoch: {epoch+1:02}')\n",
    "    print(f\" Train loss {totalGen/len(trainLoader)} , validation loss :{valid_loss}\")"
   ]
  }
 ],
 "metadata": {
  "kernelspec": {
   "display_name": "Python 3 (ipykernel)",
   "language": "python",
   "name": "python3"
  },
  "language_info": {
   "codemirror_mode": {
    "name": "ipython",
    "version": 3
   },
   "file_extension": ".py",
   "mimetype": "text/x-python",
   "name": "python",
   "nbconvert_exporter": "python",
   "pygments_lexer": "ipython3",
   "version": "3.11.8"
  }
 },
 "nbformat": 4,
 "nbformat_minor": 5
}
