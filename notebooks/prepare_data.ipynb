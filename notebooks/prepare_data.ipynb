{
 "cells": [
  {
   "cell_type": "code",
   "execution_count": 5,
   "id": "86bfcd1d-9b56-4be0-85cf-0db001145a04",
   "metadata": {},
   "outputs": [
    {
     "name": "stdout",
     "output_type": "stream",
     "text": [
      "The autoreload extension is already loaded. To reload it, use:\n",
      "  %reload_ext autoreload\n"
     ]
    }
   ],
   "source": [
    "%load_ext autoreload\n",
    "%autoreload 2"
   ]
  },
  {
   "cell_type": "code",
   "execution_count": 6,
   "id": "125bdd36-9131-4ffd-96cd-b46a10abd5b8",
   "metadata": {},
   "outputs": [
    {
     "name": "stdout",
     "output_type": "stream",
     "text": [
      "[Errno 2] No such file or directory: 'PatientTrajectoryForecasting'\n",
      "/home/sifal.klioui/PatientTrajectoryForecasting\n"
     ]
    }
   ],
   "source": [
    "cd PatientTrajectoryForecasting"
   ]
  },
  {
   "cell_type": "code",
   "execution_count": 17,
   "id": "65c6d0c3-7d45-40da-822c-9b617f5da3ad",
   "metadata": {},
   "outputs": [],
   "source": [
    "from utils.data_preparation import load_mimic_data, clean_data, icd_mapping, trim, build_data, remove_code, save_files, generate_code_types, filter_subjects, filter_notes\n",
    "from utils.utils import get_paths, store_files\n",
    "import yaml \n",
    "import os\n",
    "import pandas as pd"
   ]
  },
  {
   "cell_type": "code",
   "execution_count": 18,
   "id": "8c2096c6-3e39-41df-addc-59a9f0d64159",
   "metadata": {},
   "outputs": [],
   "source": [
    "with open('paths.yaml', 'r') as file:\n",
    "    path_config = yaml.safe_load(file)"
   ]
  },
  {
   "cell_type": "code",
   "execution_count": 19,
   "id": "a7e6cf52-eedf-4779-91f9-a9050969298d",
   "metadata": {},
   "outputs": [],
   "source": [
    "paths = get_paths(path_config) "
   ]
  },
  {
   "cell_type": "code",
   "execution_count": 21,
   "id": "ff4406ff-be7b-479b-add2-69227be89ad2",
   "metadata": {},
   "outputs": [
    {
     "name": "stdout",
     "output_type": "stream",
     "text": [
      "Building subject_id-admission mapping, admission-date mapping\n",
      "Building admission-diagnosis mapping\n",
      "-Number of null ICD9 codes in file /home/sifal.klioui/mimic-iv-2.2/hosp/diagnoses_icd.csv.gz: 0\n",
      "-Number of null ICD10 codes in file /home/sifal.klioui/mimic-iv-2.2/hosp/diagnoses_icd.csv.gz: 0\n",
      "Building admission-procedure mapping\n",
      "-Number of null ICD9 codes in file /home/sifal.klioui/mimic-iv-2.2/hosp/procedures_icd.csv.gz: 0\n",
      "-Number of null ICD10 codes in file /home/sifal.klioui/mimic-iv-2.2/hosp/procedures_icd.csv.gz: 0\n",
      "Building admission-drug mapping\n"
     ]
    }
   ],
   "source": [
    "subject_id_adm_map, adm_dx_map, adm_px_map, adm_drug_map, drug_description_map, notes = load_mimic_data(**paths)"
   ]
  },
  {
   "cell_type": "code",
   "execution_count": 26,
   "id": "4d61d29e-be89-43fd-a3ef-e6ed6430901b",
   "metadata": {},
   "outputs": [
    {
     "name": "stdout",
     "output_type": "stream",
     "text": [
      "Cleaning data...\n",
      "Removing patient records who do not have all three medical codes for an admission\n",
      "Removing patients who made less than 2 admissions\n",
      " Total Number of patients 18383\n",
      " Total Number of admissions 48855\n",
      " Average number of admissions per patient 2.6576184518304955\n",
      " Total Number of diagnosis code 751\n",
      " Total Number of procedure code 466\n",
      " Total Number of drug code 4839\n",
      " Total Number of codes 6056\n",
      " average Number of procedure code per visit 3.05\n",
      " average Number of diagnosis code per visit 12.49\n",
      " average Number of Drug code per visit 51.027366697369764\n"
     ]
    }
   ],
   "source": [
    "min_visits = 2\n",
    "subject_id_adm_map, adm_dx_map, adm_px_map, adm_drug_map = clean_data(subject_id_adm_map, adm_dx_map, adm_px_map, adm_drug_map, min_visits)"
   ]
  },
  {
   "cell_type": "code",
   "execution_count": 27,
   "id": "b0b6a11e-0a5e-4e55-a7dd-c33719166613",
   "metadata": {},
   "outputs": [
    {
     "name": "stdout",
     "output_type": "stream",
     "text": [
      "18383\n",
      "19999840\n"
     ]
    }
   ],
   "source": [
    "print(len(subject_id_adm_map.keys()))\n",
    "print(max(subject_id_adm_map.keys()))"
   ]
  },
  {
   "cell_type": "code",
   "execution_count": 28,
   "id": "a1c95c74-993e-434a-9197-40468b5e419a",
   "metadata": {},
   "outputs": [
    {
     "name": "stdout",
     "output_type": "stream",
     "text": [
      "Total ICD to CCS entries: 144424\n",
      "Total CCS codes/descriptions: 514\n",
      "Total number of unique codes (Diag + Proc): 828\n",
      "total number of ICD9 codes used 0 and ICD10 codes: 0\n",
      "-Total number (complete set) of ICD9+ICD10 codes (diag + proc): 144424\n",
      "-Total number of ICD codes actually used: 14\n",
      "-Total number of ICD codes missing in the admissions list:  576118\n",
      "total number of ICD9 codes used 0 and ICD10 codes: 0\n",
      "-Total number (complete set) of ICD9+ICD10 codes (diag + proc): 144424\n",
      "-Total number of ICD codes actually used: 33\n",
      "-Total number of ICD codes missing in the admissions list:  139599\n",
      " Total Number of diagnosis code 10\n",
      " Total Number of procedure code 8\n",
      " Total Number of drug code 4839\n",
      " Total Number of unique  D,P codes 18\n",
      " Total Number of all codes 4857\n",
      " average Number of procedure code per visit 1.33\n",
      " average Number of diagnosis code per visit 1.80\n",
      " average Number of drug code per visit 51.03\n",
      " Min. and max. Number of diagnosis code per admission (1, 10)\n",
      " Min. and max. Number of procedure code  per admission(1, 11)\n",
      " Min. and max. Number of drug code  per admission (1, 1202)\n"
     ]
    }
   ],
   "source": [
    "adm_dx_map, adm_px_map, code_description_map = icd_mapping(adDx = adm_dx_map, adPx = adm_px_map, adDrug = adm_drug_map, drugDescription = drug_description_map, **paths)"
   ]
  },
  {
   "cell_type": "code",
   "execution_count": 29,
   "id": "a7453ed9-9d17-49c6-8b6d-9daaee4d629d",
   "metadata": {},
   "outputs": [
    {
     "name": "stdout",
     "output_type": "stream",
     "text": [
      "18863\n",
      "29999670\n"
     ]
    }
   ],
   "source": [
    "print(len(adm_dx_map.keys()))\n",
    "print(max(adm_dx_map.keys())) "
   ]
  },
  {
   "cell_type": "code",
   "execution_count": 30,
   "id": "aff3d946-89e9-408c-be29-64839df26260",
   "metadata": {},
   "outputs": [
    {
     "name": "stdout",
     "output_type": "stream",
     "text": [
      "Trimming the diagnosis, procedure, and medication codes for each visit\n",
      " Total Number of diagnosis code 10\n",
      " Total Number of procedure code 8\n",
      " Total Number of drug code 4730\n",
      " Total Number of unique  D,P codes 18\n",
      " Total Number of all codes 4748\n",
      " average Number of procedure code per visit 1.33\n",
      " average Number of diagnosis code per visit 1.80\n",
      " average Number of drug code per visit 38.71\n",
      " Min. and max. Number of diagnosis code per admission (1, 10)\n",
      " Min. and max. Number of procedure code  per admission(1, 11)\n",
      " Min. and max. Number of drug code  per admission (1, 80)\n"
     ]
    }
   ],
   "source": [
    "max_dx, max_px, max_drg = 80, 80, 80 \n",
    "adm_dx_map, adm_px_map, adm_drug_map = trim(adm_dx_map, adm_px_map, adm_drug_map, max_dx, max_px, max_drg)"
   ]
  },
  {
   "cell_type": "code",
   "execution_count": 31,
   "id": "bc92f2b4-82c9-4e8b-a080-8d30a5461231",
   "metadata": {},
   "outputs": [
    {
     "name": "stdout",
     "output_type": "stream",
     "text": [
      "18863\n",
      "29999670\n"
     ]
    }
   ],
   "source": [
    "print(len(adm_dx_map.keys()))\n",
    "print(max(adm_dx_map.keys())) "
   ]
  },
  {
   "cell_type": "code",
   "execution_count": 32,
   "id": "b45be6bd-274d-44cb-9a6c-63d4abf4ceda",
   "metadata": {},
   "outputs": [
    {
     "name": "stdout",
     "output_type": "stream",
     "text": [
      "Number of patients with less than 2 visits: 0\n"
     ]
    }
   ],
   "source": [
    "subject_id_adm_map = filter_subjects(subject_id_adm_map, min_visits)"
   ]
  },
  {
   "cell_type": "code",
   "execution_count": 35,
   "id": "8c6d29cf-ba24-4b88-b368-ea1a0f1d6fe4",
   "metadata": {},
   "outputs": [
    {
     "data": {
      "text/plain": [
       "48855"
      ]
     },
     "execution_count": 35,
     "metadata": {},
     "output_type": "execute_result"
    }
   ],
   "source": [
    "sum(len(x) for x in subject_id_adm_map.values())"
   ]
  },
  {
   "cell_type": "code",
   "execution_count": 33,
   "id": "c28b171d-28cd-4b6d-973f-6f8444f0f812",
   "metadata": {},
   "outputs": [
    {
     "name": "stdout",
     "output_type": "stream",
     "text": [
      "filtering notes where the subject has made less than 2 visits sucessive visits...\n",
      "found 5280 subjects and 13206 visits that need to be removed\n"
     ]
    }
   ],
   "source": [
    "filted_notes, subject_id_hadm_id_map_ = filter_notes(notes, subject_id_adm_map, min_visits)"
   ]
  },
  {
   "cell_type": "code",
   "execution_count": null,
   "id": "87919e31-db62-4ed8-b195-6523fca6e1ed",
   "metadata": {},
   "outputs": [],
   "source": [
    "patients_visits_sequences, tokens_ids_map = build_data(subject_id_adm_map, adm_dx_map, adm_px_map, adm_drug_map)"
   ]
  },
  {
   "cell_type": "code",
   "execution_count": null,
   "id": "14ea670c-c92d-4b4f-ac9f-0b3acb9f6bfa",
   "metadata": {},
   "outputs": [],
   "source": [
    "min_freq_codes = 5\n",
    "patients_visits_sequences, tokens_ids_map, ids_tokens_map  = remove_code(patients_visits_sequences, tokens_ids_map, threshold = min_freq_codes)"
   ]
  },
  {
   "cell_type": "code",
   "execution_count": null,
   "id": "e160d7e2-cc27-48ea-a0b7-f156aada4a2a",
   "metadata": {},
   "outputs": [],
   "source": [
    "save_files(patients_visits_sequences, dict(tokens_ids_map), code_description_map)"
   ]
  },
  {
   "cell_type": "code",
   "execution_count": null,
   "id": "86fa59ef-731d-4187-9a46-cc1037799f74",
   "metadata": {},
   "outputs": [],
   "source": [
    "generate_code_types(ids_tokens_map)"
   ]
  },
  {
   "cell_type": "code",
   "execution_count": null,
   "id": "c52c9bc9-9899-4990-939e-6a4c56318bce",
   "metadata": {},
   "outputs": [],
   "source": []
  }
 ],
 "metadata": {
  "kernelspec": {
   "display_name": "Python 3 (ipykernel)",
   "language": "python",
   "name": "python3"
  },
  "language_info": {
   "codemirror_mode": {
    "name": "ipython",
    "version": 3
   },
   "file_extension": ".py",
   "mimetype": "text/x-python",
   "name": "python",
   "nbconvert_exporter": "python",
   "pygments_lexer": "ipython3",
   "version": "3.11.8"
  }
 },
 "nbformat": 4,
 "nbformat_minor": 5
}
