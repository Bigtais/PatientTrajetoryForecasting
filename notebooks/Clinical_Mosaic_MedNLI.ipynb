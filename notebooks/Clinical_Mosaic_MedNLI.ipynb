{
  "cells": [
    {
      "cell_type": "code",
      "execution_count": 1,
      "metadata": {
        "execution": {
          "iopub.execute_input": "2025-02-24T09:43:42.004126Z",
          "iopub.status.busy": "2025-02-24T09:43:42.003858Z",
          "iopub.status.idle": "2025-02-24T09:43:42.007895Z",
          "shell.execute_reply": "2025-02-24T09:43:42.006985Z",
          "shell.execute_reply.started": "2025-02-24T09:43:42.004097Z"
        },
        "trusted": true,
        "id": "HVeH5K9ec4sR"
      },
      "outputs": [],
      "source": [
        "# Download dataset first: https://physionet.org/content/mednli/1.0.0/\n",
        "# Requires credentialed access"
      ]
    },
    {
      "cell_type": "code",
      "source": [
        "!unzip mednli-a-natural-language-inference-dataset-for-the-clinical-domain-1.0.0.zip"
      ],
      "metadata": {
        "colab": {
          "base_uri": "https://localhost:8080/"
        },
        "id": "DmX9QdPXc9ic",
        "outputId": "bc8a2acd-170b-482a-b10c-6dbb03cdd9b2"
      },
      "execution_count": 1,
      "outputs": [
        {
          "output_type": "stream",
          "name": "stdout",
          "text": [
            "Archive:  mednli-a-natural-language-inference-dataset-for-the-clinical-domain-1.0.0.zip\n",
            "  inflating: mednli-a-natural-language-inference-dataset-for-the-clinical-domain-1.0.0/LICENSE.txt  \n",
            "  inflating: mednli-a-natural-language-inference-dataset-for-the-clinical-domain-1.0.0/README.txt  \n",
            "  inflating: mednli-a-natural-language-inference-dataset-for-the-clinical-domain-1.0.0/SHA256SUMS.txt  \n",
            "  inflating: mednli-a-natural-language-inference-dataset-for-the-clinical-domain-1.0.0/mli_dev_v1.jsonl  \n",
            "  inflating: mednli-a-natural-language-inference-dataset-for-the-clinical-domain-1.0.0/mli_test_v1.jsonl  \n",
            "  inflating: mednli-a-natural-language-inference-dataset-for-the-clinical-domain-1.0.0/mli_train_v1.jsonl  \n"
          ]
        }
      ]
    },
    {
      "cell_type": "code",
      "execution_count": null,
      "metadata": {
        "execution": {
          "iopub.execute_input": "2025-02-24T09:43:42.009885Z",
          "iopub.status.busy": "2025-02-24T09:43:42.009636Z",
          "iopub.status.idle": "2025-02-24T09:43:42.182490Z",
          "shell.execute_reply": "2025-02-24T09:43:42.180942Z",
          "shell.execute_reply.started": "2025-02-24T09:43:42.009859Z"
        },
        "trusted": true,
        "id": "gwyLO1QLc4sT"
      },
      "outputs": [],
      "source": [
        "cp -r /kaggle/input/mednli/mednli-a-natural-language-inference-dataset-for-the-clinical-domain-1.0.0 ./"
      ]
    },
    {
      "cell_type": "code",
      "execution_count": 1,
      "metadata": {
        "execution": {
          "iopub.execute_input": "2025-02-24T09:43:42.184512Z",
          "iopub.status.busy": "2025-02-24T09:43:42.184225Z",
          "iopub.status.idle": "2025-02-24T09:43:42.191010Z",
          "shell.execute_reply": "2025-02-24T09:43:42.190210Z",
          "shell.execute_reply.started": "2025-02-24T09:43:42.184486Z"
        },
        "trusted": true,
        "colab": {
          "base_uri": "https://localhost:8080/"
        },
        "id": "S2cQHH5Bc4sU",
        "outputId": "90899d02-c8b8-4041-b652-9a59a50cbfcf"
      },
      "outputs": [
        {
          "output_type": "stream",
          "name": "stdout",
          "text": [
            "/content/mednli-a-natural-language-inference-dataset-for-the-clinical-domain-1.0.0\n"
          ]
        }
      ],
      "source": [
        "cd mednli-a-natural-language-inference-dataset-for-the-clinical-domain-1.0.0"
      ]
    },
    {
      "cell_type": "code",
      "execution_count": 2,
      "metadata": {
        "execution": {
          "iopub.execute_input": "2025-02-24T09:43:42.192054Z",
          "iopub.status.busy": "2025-02-24T09:43:42.191841Z",
          "iopub.status.idle": "2025-02-24T09:43:45.841283Z",
          "shell.execute_reply": "2025-02-24T09:43:45.840619Z",
          "shell.execute_reply.started": "2025-02-24T09:43:42.192035Z"
        },
        "trusted": true,
        "id": "yCcxAx-ec4sV"
      },
      "outputs": [],
      "source": [
        "import os\n",
        "import json\n",
        "import torch\n",
        "import random\n",
        "import numpy as np\n",
        "from torch.utils.data import Dataset, DataLoader\n",
        "from transformers import (\n",
        "    AutoModelForSequenceClassification,\n",
        "    AutoTokenizer,\n",
        "    get_linear_schedule_with_warmup\n",
        ")\n",
        "from sklearn.metrics import classification_report\n",
        "from tqdm import tqdm\n",
        "from torch.optim import AdamW\n",
        "\n",
        "# === Determinism Configuration ===\n",
        "SEED = 55212\n",
        "torch.manual_seed(SEED)\n",
        "torch.cuda.manual_seed_all(SEED)\n",
        "torch.backends.cudnn.deterministic = True\n",
        "torch.backends.cudnn.benchmark = False\n",
        "torch.use_deterministic_algorithms(True)\n",
        "os.environ['CUBLAS_WORKSPACE_CONFIG'] = ':4096:8'\n",
        "np.random.seed(SEED)\n",
        "random.seed(SEED)\n"
      ]
    },
    {
      "cell_type": "code",
      "execution_count": 13,
      "metadata": {
        "execution": {
          "iopub.execute_input": "2025-02-24T09:43:45.842590Z",
          "iopub.status.busy": "2025-02-24T09:43:45.842083Z",
          "iopub.status.idle": "2025-02-24T09:43:45.873308Z",
          "shell.execute_reply": "2025-02-24T09:43:45.871989Z",
          "shell.execute_reply.started": "2025-02-24T09:43:45.842563Z"
        },
        "trusted": true,
        "id": "X4zlzx0Mc4sW"
      },
      "outputs": [],
      "source": [
        "# === Optimizer Configuration ===\n",
        "from torch.optim.lr_scheduler import LambdaLR\n",
        "\n",
        "# === Hardware Setup ===\n",
        "device = torch.device(\"cuda\" if torch.cuda.is_available() else \"cpu\")\n",
        "\n",
        "# === Model Initialization ===\n",
        "def get_model():\n",
        "    model = AutoModelForSequenceClassification.from_pretrained(\n",
        "        'Sifal/ClinicalMosaic',\n",
        "        num_labels=3,\n",
        "        torch_dtype='auto',\n",
        "        trust_remote_code=True,\n",
        "    )\n",
        "    return model.to(device)\n",
        "\n",
        "# === Optimizer Configuration ===\n",
        "def get_model_and_optimizer(\n",
        "                            learning_rate,\n",
        "                            classifier_lr,\n",
        "                            weight_decay,\n",
        "                            beta1, beta2,\n",
        "                            eps,\n",
        "                            num_epochs,\n",
        "                            num_warmup_epochs,\n",
        "                            freeze_backbone=True,\n",
        "                            decay=False\n",
        "    ):\n",
        "\n",
        "    model = get_model()\n",
        "\n",
        "    if freeze_backbone:\n",
        "        for param in model.embedder.parameters():\n",
        "            param.requires_grad = False\n",
        "\n",
        "    no_decay = [\"bias\", \"LayerNorm.weight\"]\n",
        "    optimizer_grouped_parameters = [\n",
        "    {\n",
        "        \"params\": [p for n, p in model.named_parameters() if \"classifier\" not in n and \"pooler\" not in n and not any(nd in n for nd in no_decay)],\n",
        "        \"weight_decay\": weight_decay,\n",
        "        \"lr\": learning_rate,\n",
        "    },\n",
        "    {\n",
        "        \"params\": [p for n, p in model.named_parameters() if \"classifier\" not in n and \"pooler\" not in n and any(nd in n for nd in no_decay)],\n",
        "        \"weight_decay\": 0.0,\n",
        "        \"lr\": learning_rate,\n",
        "    },\n",
        "    {\n",
        "        \"params\": [p for n, p in model.named_parameters() if \"classifier\" in n or \"pooler\" in n],\n",
        "        \"weight_decay\": weight_decay * 10,\n",
        "        \"lr\": classifier_lr,\n",
        "    },\n",
        "]\n",
        "\n",
        "    optimizer = AdamW(\n",
        "        optimizer_grouped_parameters,\n",
        "        betas=(beta1, beta2),\n",
        "        eps=eps,\n",
        "    )\n",
        "\n",
        "    def warmup_stable_decay(epoch):\n",
        "        if epoch < num_warmup_epochs:\n",
        "            return epoch / num_warmup_epochs  # Linear warmup\n",
        "        elif epoch < num_epochs * 0.75:  # Keep stable for 75% of training\n",
        "            return 1.0\n",
        "        else:\n",
        "            return max(0.1, (num_epochs - epoch) / (num_epochs * 0.25))  # Decay over last 25%\n",
        "\n",
        "    scheduler = LambdaLR(optimizer, lr_lambda=warmup_stable_decay)\n",
        "\n",
        "    return model, optimizer, scheduler\n",
        "\n",
        "# === Data Loading ===\n",
        "class MedNLIDataset(Dataset):\n",
        "    def __init__(self, filename, tokenizer):\n",
        "        self.data = []\n",
        "        with open(filename, 'r') as f:\n",
        "            for line in f:\n",
        "                item = json.loads(line)\n",
        "                self.data.append(item)\n",
        "        self.tokenizer = tokenizer\n",
        "        self.label_map = {'entailment': 0, 'contradiction': 1, 'neutral': 2}\n",
        "\n",
        "    def __len__(self):\n",
        "        return len(self.data)\n",
        "\n",
        "    def __getitem__(self, idx):\n",
        "        item = self.data[idx]\n",
        "        encoded = self.tokenizer(\n",
        "            item['sentence1'],\n",
        "            item['sentence2'],\n",
        "            truncation=True,\n",
        "            padding='max_length',\n",
        "            max_length=128,\n",
        "            return_tensors=\"pt\"\n",
        "        )\n",
        "        return {\n",
        "            **{key: val.squeeze(0) for key, val in encoded.items()},  # Removing batch dimension\n",
        "            'labels': torch.tensor(self.label_map[item['gold_label']], dtype=torch.long)\n",
        "        }\n",
        "\n",
        "def seed_worker(worker_id):\n",
        "    worker_seed = torch.initial_seed() % 2**32\n",
        "    np.random.seed(worker_seed)\n",
        "    random.seed(worker_seed)\n",
        "\n",
        "\n",
        "def seed_worker(worker_id):\n",
        "    worker_seed = torch.initial_seed() % 2**32\n",
        "    np.random.seed(worker_seed)\n",
        "    random.seed(worker_seed)\n"
      ]
    },
    {
      "cell_type": "code",
      "execution_count": 4,
      "metadata": {
        "execution": {
          "iopub.execute_input": "2025-02-24T10:08:30.261977Z",
          "iopub.status.busy": "2025-02-24T10:08:30.261672Z",
          "iopub.status.idle": "2025-02-24T10:08:30.265585Z",
          "shell.execute_reply": "2025-02-24T10:08:30.264640Z",
          "shell.execute_reply.started": "2025-02-24T10:08:30.261954Z"
        },
        "trusted": true,
        "id": "QvmoODVUc4sX"
      },
      "outputs": [],
      "source": [
        "config = {\n",
        "    'batch_size': 128,\n",
        "     'eval_batch_size': 64,\n",
        "}"
      ]
    },
    {
      "cell_type": "code",
      "execution_count": 5,
      "metadata": {
        "execution": {
          "iopub.execute_input": "2025-02-24T10:08:35.906856Z",
          "iopub.status.busy": "2025-02-24T10:08:35.906528Z",
          "iopub.status.idle": "2025-02-24T10:08:36.203293Z",
          "shell.execute_reply": "2025-02-24T10:08:36.202342Z",
          "shell.execute_reply.started": "2025-02-24T10:08:35.906827Z"
        },
        "trusted": true,
        "id": "UFddKcrrc4sX"
      },
      "outputs": [],
      "source": [
        "# === Training Setup ===\n",
        "tokenizer = AutoTokenizer.from_pretrained('Sifal/ClinicalMosaic')\n",
        "\n",
        "# Create datasets\n",
        "train_dataset = MedNLIDataset('mli_train_v1.jsonl', tokenizer)\n",
        "dev_dataset = MedNLIDataset('mli_dev_v1.jsonl', tokenizer)\n",
        "test_dataset = MedNLIDataset('mli_test_v1.jsonl', tokenizer)\n",
        "\n",
        "\n",
        "# Deterministic data loaders\n",
        "g = torch.Generator()\n",
        "g.manual_seed(SEED)\n",
        "\n",
        "train_loader = DataLoader(\n",
        "    train_dataset,\n",
        "    batch_size=config['batch_size'],\n",
        "    shuffle=True,\n",
        "    num_workers=0,\n",
        "    worker_init_fn=seed_worker,\n",
        "    generator=g\n",
        ")\n",
        "\n",
        "dev_loader = DataLoader(\n",
        "    dev_dataset,\n",
        "    batch_size=config['eval_batch_size'],\n",
        "    num_workers=0\n",
        ")\n",
        "\n",
        "test_loader = DataLoader(\n",
        "    test_dataset,\n",
        "    batch_size=config['eval_batch_size'],\n",
        "    num_workers=0\n",
        ")\n"
      ]
    },
    {
      "cell_type": "code",
      "execution_count": 11,
      "metadata": {
        "execution": {
          "iopub.execute_input": "2025-02-24T10:08:36.507479Z",
          "iopub.status.busy": "2025-02-24T10:08:36.507080Z",
          "iopub.status.idle": "2025-02-24T10:08:36.511720Z",
          "shell.execute_reply": "2025-02-24T10:08:36.510715Z",
          "shell.execute_reply.started": "2025-02-24T10:08:36.507444Z"
        },
        "trusted": true,
        "id": "q6u9Ykdjc4sY"
      },
      "outputs": [],
      "source": [
        "config = {\n",
        "    'learning_rate': 2e-5,\n",
        "    'classifier_lr': 2e-4,\n",
        "    'weight_decay':  2e-6,\n",
        "    'beta1': 0.9,\n",
        "    'beta2': 0.98,\n",
        "    'eps': 1e-6,\n",
        "    'batch_size': 128,\n",
        "    'eval_batch_size': 64,\n",
        "    'max_grad_norm': 1.5,\n",
        "    'num_epochs': 60,\n",
        "    'num_warmup_epochs' : 4,\n",
        "    'early_stop_patience': 15,\n",
        "    'freeze_backbone' : False,\n",
        "    'decay' : True,\n",
        "}"
      ]
    },
    {
      "cell_type": "code",
      "execution_count": 14,
      "metadata": {
        "execution": {
          "iopub.execute_input": "2025-02-24T10:08:39.416927Z",
          "iopub.status.busy": "2025-02-24T10:08:39.416628Z",
          "iopub.status.idle": "2025-02-24T10:08:41.448541Z",
          "shell.execute_reply": "2025-02-24T10:08:41.447516Z",
          "shell.execute_reply.started": "2025-02-24T10:08:39.416902Z"
        },
        "trusted": true,
        "colab": {
          "base_uri": "https://localhost:8080/"
        },
        "id": "BZGeIhPnc4sY",
        "outputId": "7d3a8e90-8bf1-4afd-a0f4-1b09054c5447"
      },
      "outputs": [
        {
          "output_type": "stream",
          "name": "stderr",
          "text": [
            "You are using a model of type bert to instantiate a model of type clinical_mosaic. This is not supported for all configurations of models and can yield errors.\n"
          ]
        },
        {
          "output_type": "stream",
          "name": "stdout",
          "text": [
            "Checkpoint does not contain the classification layer (768x3 + 3 = 2307 params). It will be randomly initialized.\n"
          ]
        }
      ],
      "source": [
        "# Initialize components\n",
        "model, optimizer, scheduler = get_model_and_optimizer(\n",
        "    config['learning_rate'],\n",
        "    config['classifier_lr'],\n",
        "    config['weight_decay'],\n",
        "    config['beta1'],\n",
        "    config['beta2'],\n",
        "    config['eps'],\n",
        "    config['num_epochs'],\n",
        "    config['num_warmup_epochs'],\n",
        "    freeze_backbone = False,\n",
        "    decay = True\n",
        ")"
      ]
    },
    {
      "cell_type": "code",
      "source": [
        "model"
      ],
      "metadata": {
        "colab": {
          "base_uri": "https://localhost:8080/"
        },
        "id": "WGaey-jYtAGe",
        "outputId": "4a424e32-2667-4ffd-db94-c21e72b900a0"
      },
      "execution_count": 9,
      "outputs": [
        {
          "output_type": "execute_result",
          "data": {
            "text/plain": [
              "ClinicalMosaicForSequenceClassification(\n",
              "  (bert): BertModel(\n",
              "    (embeddings): BertEmbeddings(\n",
              "      (word_embeddings): Embedding(30528, 768, padding_idx=0)\n",
              "      (token_type_embeddings): Embedding(2, 768)\n",
              "      (LayerNorm): LayerNorm((768,), eps=1e-12, elementwise_affine=True)\n",
              "      (dropout): Dropout(p=0.1, inplace=False)\n",
              "    )\n",
              "    (encoder): BertEncoder(\n",
              "      (layer): ModuleList(\n",
              "        (0-11): 12 x BertLayer(\n",
              "          (attention): BertUnpadAttention(\n",
              "            (self): BertUnpadSelfAttention(\n",
              "              (dropout): Dropout(p=0.1, inplace=False)\n",
              "              (Wqkv): Linear(in_features=768, out_features=2304, bias=True)\n",
              "            )\n",
              "            (output): BertSelfOutput(\n",
              "              (dense): Linear(in_features=768, out_features=768, bias=True)\n",
              "              (LayerNorm): LayerNorm((768,), eps=1e-12, elementwise_affine=True)\n",
              "              (dropout): Dropout(p=0.1, inplace=False)\n",
              "            )\n",
              "          )\n",
              "          (mlp): BertGatedLinearUnitMLP(\n",
              "            (gated_layers): Linear(in_features=768, out_features=6144, bias=False)\n",
              "            (act): GELU(approximate='none')\n",
              "            (wo): Linear(in_features=3072, out_features=768, bias=True)\n",
              "            (dropout): Dropout(p=0.1, inplace=False)\n",
              "            (layernorm): LayerNorm((768,), eps=1e-12, elementwise_affine=True)\n",
              "          )\n",
              "        )\n",
              "      )\n",
              "    )\n",
              "    (pooler): BertPooler(\n",
              "      (dense): Linear(in_features=768, out_features=768, bias=True)\n",
              "      (activation): Tanh()\n",
              "    )\n",
              "  )\n",
              "  (dropout): Dropout(p=0.1, inplace=False)\n",
              "  (classifier): Linear(in_features=768, out_features=3, bias=True)\n",
              ")"
            ]
          },
          "metadata": {},
          "execution_count": 9
        }
      ]
    },
    {
      "cell_type": "code",
      "execution_count": 15,
      "metadata": {
        "execution": {
          "iopub.execute_input": "2025-02-24T10:08:59.534238Z",
          "iopub.status.busy": "2025-02-24T10:08:59.533931Z",
          "iopub.status.idle": "2025-02-24T11:08:19.172323Z",
          "shell.execute_reply": "2025-02-24T11:08:19.171479Z",
          "shell.execute_reply.started": "2025-02-24T10:08:59.534211Z"
        },
        "trusted": true,
        "colab": {
          "base_uri": "https://localhost:8080/"
        },
        "id": "h0pMKOAVc4sY",
        "outputId": "eded0704-1df5-4bad-9cf6-691d5c297a90"
      },
      "outputs": [
        {
          "output_type": "stream",
          "name": "stderr",
          "text": [
            "Epoch 1: 100%|██████████| 88/88 [02:25<00:00,  1.65s/it]\n"
          ]
        },
        {
          "output_type": "stream",
          "name": "stdout",
          "text": [
            "\n",
            "Epoch 1 | Avg Loss: 1.1032\n",
            "Validation Accuracy: 0.3455\n",
            "              precision    recall  f1-score   support\n",
            "\n",
            "           0       0.35      0.44      0.39       465\n",
            "           1       0.34      0.21      0.26       465\n",
            "           2       0.35      0.39      0.37       465\n",
            "\n",
            "    accuracy                           0.35      1395\n",
            "   macro avg       0.34      0.35      0.34      1395\n",
            "weighted avg       0.34      0.35      0.34      1395\n",
            "\n"
          ]
        },
        {
          "output_type": "stream",
          "name": "stderr",
          "text": [
            "Epoch 2: 100%|██████████| 88/88 [02:27<00:00,  1.68s/it]\n"
          ]
        },
        {
          "output_type": "stream",
          "name": "stdout",
          "text": [
            "\n",
            "Epoch 2 | Avg Loss: 1.0992\n",
            "Validation Accuracy: 0.4165\n",
            "              precision    recall  f1-score   support\n",
            "\n",
            "           0       0.37      0.29      0.33       465\n",
            "           1       0.42      0.64      0.51       465\n",
            "           2       0.45      0.32      0.37       465\n",
            "\n",
            "    accuracy                           0.42      1395\n",
            "   macro avg       0.42      0.42      0.40      1395\n",
            "weighted avg       0.42      0.42      0.40      1395\n",
            "\n"
          ]
        },
        {
          "output_type": "stream",
          "name": "stderr",
          "text": [
            "Epoch 3: 100%|██████████| 88/88 [02:27<00:00,  1.68s/it]\n"
          ]
        },
        {
          "output_type": "stream",
          "name": "stdout",
          "text": [
            "\n",
            "Epoch 3 | Avg Loss: 1.0440\n",
            "Validation Accuracy: 0.5326\n",
            "              precision    recall  f1-score   support\n",
            "\n",
            "           0       0.41      0.26      0.32       465\n",
            "           1       0.66      0.69      0.68       465\n",
            "           2       0.49      0.65      0.56       465\n",
            "\n",
            "    accuracy                           0.53      1395\n",
            "   macro avg       0.52      0.53      0.52      1395\n",
            "weighted avg       0.52      0.53      0.52      1395\n",
            "\n"
          ]
        },
        {
          "output_type": "stream",
          "name": "stderr",
          "text": [
            "Epoch 4: 100%|██████████| 88/88 [02:28<00:00,  1.69s/it]\n"
          ]
        },
        {
          "output_type": "stream",
          "name": "stdout",
          "text": [
            "\n",
            "Epoch 4 | Avg Loss: 0.9401\n",
            "Validation Accuracy: 0.6029\n",
            "              precision    recall  f1-score   support\n",
            "\n",
            "           0       0.54      0.28      0.37       465\n",
            "           1       0.73      0.78      0.76       465\n",
            "           2       0.53      0.75      0.62       465\n",
            "\n",
            "    accuracy                           0.60      1395\n",
            "   macro avg       0.60      0.60      0.58      1395\n",
            "weighted avg       0.60      0.60      0.58      1395\n",
            "\n"
          ]
        },
        {
          "output_type": "stream",
          "name": "stderr",
          "text": [
            "Epoch 5: 100%|██████████| 88/88 [02:27<00:00,  1.68s/it]\n"
          ]
        },
        {
          "output_type": "stream",
          "name": "stdout",
          "text": [
            "\n",
            "Epoch 5 | Avg Loss: 1.0654\n",
            "Validation Accuracy: 0.4409\n",
            "              precision    recall  f1-score   support\n",
            "\n",
            "           0       0.38      0.43      0.40       465\n",
            "           1       0.46      0.60      0.52       465\n",
            "           2       0.51      0.29      0.37       465\n",
            "\n",
            "    accuracy                           0.44      1395\n",
            "   macro avg       0.45      0.44      0.43      1395\n",
            "weighted avg       0.45      0.44      0.43      1395\n",
            "\n"
          ]
        },
        {
          "output_type": "stream",
          "name": "stderr",
          "text": [
            "Epoch 6: 100%|██████████| 88/88 [02:27<00:00,  1.68s/it]\n"
          ]
        },
        {
          "output_type": "stream",
          "name": "stdout",
          "text": [
            "\n",
            "Epoch 6 | Avg Loss: 1.1049\n",
            "Validation Accuracy: 0.4953\n",
            "              precision    recall  f1-score   support\n",
            "\n",
            "           0       0.44      0.21      0.28       465\n",
            "           1       0.77      0.52      0.62       465\n",
            "           2       0.41      0.76      0.53       465\n",
            "\n",
            "    accuracy                           0.50      1395\n",
            "   macro avg       0.54      0.50      0.48      1395\n",
            "weighted avg       0.54      0.50      0.48      1395\n",
            "\n"
          ]
        },
        {
          "output_type": "stream",
          "name": "stderr",
          "text": [
            "Epoch 7: 100%|██████████| 88/88 [02:27<00:00,  1.68s/it]\n"
          ]
        },
        {
          "output_type": "stream",
          "name": "stdout",
          "text": [
            "\n",
            "Epoch 7 | Avg Loss: 0.8722\n",
            "Validation Accuracy: 0.6767\n",
            "              precision    recall  f1-score   support\n",
            "\n",
            "           0       0.65      0.43      0.52       465\n",
            "           1       0.85      0.82      0.84       465\n",
            "           2       0.57      0.78      0.66       465\n",
            "\n",
            "    accuracy                           0.68      1395\n",
            "   macro avg       0.69      0.68      0.67      1395\n",
            "weighted avg       0.69      0.68      0.67      1395\n",
            "\n"
          ]
        },
        {
          "output_type": "stream",
          "name": "stderr",
          "text": [
            "Epoch 8: 100%|██████████| 88/88 [02:27<00:00,  1.68s/it]\n"
          ]
        },
        {
          "output_type": "stream",
          "name": "stdout",
          "text": [
            "\n",
            "Epoch 8 | Avg Loss: 0.6215\n",
            "Validation Accuracy: 0.8072\n",
            "              precision    recall  f1-score   support\n",
            "\n",
            "           0       0.74      0.80      0.77       465\n",
            "           1       0.91      0.86      0.88       465\n",
            "           2       0.78      0.77      0.77       465\n",
            "\n",
            "    accuracy                           0.81      1395\n",
            "   macro avg       0.81      0.81      0.81      1395\n",
            "weighted avg       0.81      0.81      0.81      1395\n",
            "\n"
          ]
        },
        {
          "output_type": "stream",
          "name": "stderr",
          "text": [
            "Epoch 9: 100%|██████████| 88/88 [02:27<00:00,  1.68s/it]\n"
          ]
        },
        {
          "output_type": "stream",
          "name": "stdout",
          "text": [
            "\n",
            "Epoch 9 | Avg Loss: 0.4666\n",
            "Validation Accuracy: 0.8287\n",
            "              precision    recall  f1-score   support\n",
            "\n",
            "           0       0.75      0.85      0.80       465\n",
            "           1       0.90      0.90      0.90       465\n",
            "           2       0.84      0.74      0.79       465\n",
            "\n",
            "    accuracy                           0.83      1395\n",
            "   macro avg       0.83      0.83      0.83      1395\n",
            "weighted avg       0.83      0.83      0.83      1395\n",
            "\n"
          ]
        },
        {
          "output_type": "stream",
          "name": "stderr",
          "text": [
            "Epoch 10: 100%|██████████| 88/88 [02:27<00:00,  1.68s/it]\n"
          ]
        },
        {
          "output_type": "stream",
          "name": "stdout",
          "text": [
            "\n",
            "Epoch 10 | Avg Loss: 0.3656\n",
            "Validation Accuracy: 0.8344\n",
            "              precision    recall  f1-score   support\n",
            "\n",
            "           0       0.74      0.87      0.80       465\n",
            "           1       0.93      0.87      0.90       465\n",
            "           2       0.85      0.76      0.80       465\n",
            "\n",
            "    accuracy                           0.83      1395\n",
            "   macro avg       0.84      0.83      0.84      1395\n",
            "weighted avg       0.84      0.83      0.84      1395\n",
            "\n"
          ]
        },
        {
          "output_type": "stream",
          "name": "stderr",
          "text": [
            "Epoch 11: 100%|██████████| 88/88 [02:27<00:00,  1.68s/it]\n"
          ]
        },
        {
          "output_type": "stream",
          "name": "stdout",
          "text": [
            "\n",
            "Epoch 11 | Avg Loss: 0.2847\n",
            "Validation Accuracy: 0.8459\n",
            "              precision    recall  f1-score   support\n",
            "\n",
            "           0       0.86      0.75      0.80       465\n",
            "           1       0.92      0.89      0.90       465\n",
            "           2       0.78      0.90      0.83       465\n",
            "\n",
            "    accuracy                           0.85      1395\n",
            "   macro avg       0.85      0.85      0.85      1395\n",
            "weighted avg       0.85      0.85      0.85      1395\n",
            "\n"
          ]
        },
        {
          "output_type": "stream",
          "name": "stderr",
          "text": [
            "Epoch 12: 100%|██████████| 88/88 [02:27<00:00,  1.68s/it]\n"
          ]
        },
        {
          "output_type": "stream",
          "name": "stdout",
          "text": [
            "\n",
            "Epoch 12 | Avg Loss: 0.2228\n",
            "Validation Accuracy: 0.8401\n",
            "              precision    recall  f1-score   support\n",
            "\n",
            "           0       0.84      0.77      0.80       465\n",
            "           1       0.93      0.88      0.90       465\n",
            "           2       0.77      0.87      0.81       465\n",
            "\n",
            "    accuracy                           0.84      1395\n",
            "   macro avg       0.84      0.84      0.84      1395\n",
            "weighted avg       0.84      0.84      0.84      1395\n",
            "\n"
          ]
        },
        {
          "output_type": "stream",
          "name": "stderr",
          "text": [
            "Epoch 13: 100%|██████████| 88/88 [02:28<00:00,  1.68s/it]\n"
          ]
        },
        {
          "output_type": "stream",
          "name": "stdout",
          "text": [
            "\n",
            "Epoch 13 | Avg Loss: 0.1595\n",
            "Validation Accuracy: 0.8509\n",
            "              precision    recall  f1-score   support\n",
            "\n",
            "           0       0.79      0.87      0.83       465\n",
            "           1       0.92      0.91      0.91       465\n",
            "           2       0.85      0.78      0.81       465\n",
            "\n",
            "    accuracy                           0.85      1395\n",
            "   macro avg       0.85      0.85      0.85      1395\n",
            "weighted avg       0.85      0.85      0.85      1395\n",
            "\n"
          ]
        },
        {
          "output_type": "stream",
          "name": "stderr",
          "text": [
            "Epoch 14: 100%|██████████| 88/88 [02:27<00:00,  1.68s/it]\n"
          ]
        },
        {
          "output_type": "stream",
          "name": "stdout",
          "text": [
            "\n",
            "Epoch 14 | Avg Loss: 0.1266\n",
            "Validation Accuracy: 0.8573\n",
            "              precision    recall  f1-score   support\n",
            "\n",
            "           0       0.81      0.86      0.83       465\n",
            "           1       0.93      0.90      0.92       465\n",
            "           2       0.83      0.81      0.82       465\n",
            "\n",
            "    accuracy                           0.86      1395\n",
            "   macro avg       0.86      0.86      0.86      1395\n",
            "weighted avg       0.86      0.86      0.86      1395\n",
            "\n"
          ]
        },
        {
          "output_type": "stream",
          "name": "stderr",
          "text": [
            "Epoch 15: 100%|██████████| 88/88 [02:27<00:00,  1.68s/it]\n"
          ]
        },
        {
          "output_type": "stream",
          "name": "stdout",
          "text": [
            "\n",
            "Epoch 15 | Avg Loss: 0.1016\n",
            "Validation Accuracy: 0.8530\n",
            "              precision    recall  f1-score   support\n",
            "\n",
            "           0       0.84      0.81      0.82       465\n",
            "           1       0.91      0.92      0.92       465\n",
            "           2       0.81      0.84      0.82       465\n",
            "\n",
            "    accuracy                           0.85      1395\n",
            "   macro avg       0.85      0.85      0.85      1395\n",
            "weighted avg       0.85      0.85      0.85      1395\n",
            "\n"
          ]
        },
        {
          "output_type": "stream",
          "name": "stderr",
          "text": [
            "Epoch 16: 100%|██████████| 88/88 [02:28<00:00,  1.68s/it]\n"
          ]
        },
        {
          "output_type": "stream",
          "name": "stdout",
          "text": [
            "\n",
            "Epoch 16 | Avg Loss: 0.0868\n",
            "Validation Accuracy: 0.8437\n",
            "              precision    recall  f1-score   support\n",
            "\n",
            "           0       0.83      0.77      0.80       465\n",
            "           1       0.92      0.91      0.91       465\n",
            "           2       0.79      0.85      0.82       465\n",
            "\n",
            "    accuracy                           0.84      1395\n",
            "   macro avg       0.85      0.84      0.84      1395\n",
            "weighted avg       0.85      0.84      0.84      1395\n",
            "\n"
          ]
        },
        {
          "output_type": "stream",
          "name": "stderr",
          "text": [
            "Epoch 17: 100%|██████████| 88/88 [02:28<00:00,  1.68s/it]\n"
          ]
        },
        {
          "output_type": "stream",
          "name": "stdout",
          "text": [
            "\n",
            "Epoch 17 | Avg Loss: 0.0682\n",
            "Validation Accuracy: 0.8616\n",
            "              precision    recall  f1-score   support\n",
            "\n",
            "           0       0.83      0.83      0.83       465\n",
            "           1       0.92      0.92      0.92       465\n",
            "           2       0.83      0.84      0.84       465\n",
            "\n",
            "    accuracy                           0.86      1395\n",
            "   macro avg       0.86      0.86      0.86      1395\n",
            "weighted avg       0.86      0.86      0.86      1395\n",
            "\n"
          ]
        },
        {
          "output_type": "stream",
          "name": "stderr",
          "text": [
            "Epoch 18: 100%|██████████| 88/88 [02:27<00:00,  1.68s/it]\n"
          ]
        },
        {
          "output_type": "stream",
          "name": "stdout",
          "text": [
            "\n",
            "Epoch 18 | Avg Loss: 0.0586\n",
            "Validation Accuracy: 0.8495\n",
            "              precision    recall  f1-score   support\n",
            "\n",
            "           0       0.83      0.79      0.81       465\n",
            "           1       0.90      0.93      0.91       465\n",
            "           2       0.82      0.83      0.82       465\n",
            "\n",
            "    accuracy                           0.85      1395\n",
            "   macro avg       0.85      0.85      0.85      1395\n",
            "weighted avg       0.85      0.85      0.85      1395\n",
            "\n"
          ]
        },
        {
          "output_type": "stream",
          "name": "stderr",
          "text": [
            "Epoch 19: 100%|██████████| 88/88 [02:27<00:00,  1.68s/it]\n"
          ]
        },
        {
          "output_type": "stream",
          "name": "stdout",
          "text": [
            "\n",
            "Epoch 19 | Avg Loss: 0.0562\n",
            "Validation Accuracy: 0.8516\n",
            "              precision    recall  f1-score   support\n",
            "\n",
            "           0       0.84      0.79      0.82       465\n",
            "           1       0.90      0.92      0.91       465\n",
            "           2       0.81      0.84      0.83       465\n",
            "\n",
            "    accuracy                           0.85      1395\n",
            "   macro avg       0.85      0.85      0.85      1395\n",
            "weighted avg       0.85      0.85      0.85      1395\n",
            "\n"
          ]
        },
        {
          "output_type": "stream",
          "name": "stderr",
          "text": [
            "Epoch 20: 100%|██████████| 88/88 [02:28<00:00,  1.68s/it]\n"
          ]
        },
        {
          "output_type": "stream",
          "name": "stdout",
          "text": [
            "\n",
            "Epoch 20 | Avg Loss: 0.0495\n",
            "Validation Accuracy: 0.8566\n",
            "              precision    recall  f1-score   support\n",
            "\n",
            "           0       0.82      0.82      0.82       465\n",
            "           1       0.92      0.91      0.92       465\n",
            "           2       0.83      0.84      0.83       465\n",
            "\n",
            "    accuracy                           0.86      1395\n",
            "   macro avg       0.86      0.86      0.86      1395\n",
            "weighted avg       0.86      0.86      0.86      1395\n",
            "\n"
          ]
        },
        {
          "output_type": "stream",
          "name": "stderr",
          "text": [
            "Epoch 21: 100%|██████████| 88/88 [02:28<00:00,  1.68s/it]\n"
          ]
        },
        {
          "output_type": "stream",
          "name": "stdout",
          "text": [
            "\n",
            "Epoch 21 | Avg Loss: 0.0377\n",
            "Validation Accuracy: 0.8659\n",
            "              precision    recall  f1-score   support\n",
            "\n",
            "           0       0.86      0.81      0.83       465\n",
            "           1       0.90      0.94      0.92       465\n",
            "           2       0.83      0.85      0.84       465\n",
            "\n",
            "    accuracy                           0.87      1395\n",
            "   macro avg       0.87      0.87      0.87      1395\n",
            "weighted avg       0.87      0.87      0.87      1395\n",
            "\n"
          ]
        },
        {
          "output_type": "stream",
          "name": "stderr",
          "text": [
            "Epoch 22: 100%|██████████| 88/88 [02:27<00:00,  1.68s/it]\n"
          ]
        },
        {
          "output_type": "stream",
          "name": "stdout",
          "text": [
            "\n",
            "Epoch 22 | Avg Loss: 0.0364\n",
            "Validation Accuracy: 0.8624\n",
            "              precision    recall  f1-score   support\n",
            "\n",
            "           0       0.83      0.84      0.84       465\n",
            "           1       0.91      0.93      0.92       465\n",
            "           2       0.85      0.82      0.83       465\n",
            "\n",
            "    accuracy                           0.86      1395\n",
            "   macro avg       0.86      0.86      0.86      1395\n",
            "weighted avg       0.86      0.86      0.86      1395\n",
            "\n"
          ]
        },
        {
          "output_type": "stream",
          "name": "stderr",
          "text": [
            "Epoch 23: 100%|██████████| 88/88 [02:27<00:00,  1.68s/it]\n"
          ]
        },
        {
          "output_type": "stream",
          "name": "stdout",
          "text": [
            "\n",
            "Epoch 23 | Avg Loss: 0.0310\n",
            "Validation Accuracy: 0.8609\n",
            "              precision    recall  f1-score   support\n",
            "\n",
            "           0       0.83      0.84      0.83       465\n",
            "           1       0.93      0.91      0.92       465\n",
            "           2       0.83      0.83      0.83       465\n",
            "\n",
            "    accuracy                           0.86      1395\n",
            "   macro avg       0.86      0.86      0.86      1395\n",
            "weighted avg       0.86      0.86      0.86      1395\n",
            "\n"
          ]
        },
        {
          "output_type": "stream",
          "name": "stderr",
          "text": [
            "Epoch 24: 100%|██████████| 88/88 [02:27<00:00,  1.68s/it]\n"
          ]
        },
        {
          "output_type": "stream",
          "name": "stdout",
          "text": [
            "\n",
            "Epoch 24 | Avg Loss: 0.0366\n",
            "Validation Accuracy: 0.8459\n",
            "              precision    recall  f1-score   support\n",
            "\n",
            "           0       0.79      0.85      0.82       465\n",
            "           1       0.90      0.92      0.91       465\n",
            "           2       0.84      0.77      0.80       465\n",
            "\n",
            "    accuracy                           0.85      1395\n",
            "   macro avg       0.85      0.85      0.85      1395\n",
            "weighted avg       0.85      0.85      0.85      1395\n",
            "\n"
          ]
        },
        {
          "output_type": "stream",
          "name": "stderr",
          "text": [
            "Epoch 25: 100%|██████████| 88/88 [02:28<00:00,  1.68s/it]\n"
          ]
        },
        {
          "output_type": "stream",
          "name": "stdout",
          "text": [
            "\n",
            "Epoch 25 | Avg Loss: 0.0316\n",
            "Validation Accuracy: 0.8502\n",
            "              precision    recall  f1-score   support\n",
            "\n",
            "           0       0.82      0.82      0.82       465\n",
            "           1       0.91      0.92      0.92       465\n",
            "           2       0.82      0.81      0.81       465\n",
            "\n",
            "    accuracy                           0.85      1395\n",
            "   macro avg       0.85      0.85      0.85      1395\n",
            "weighted avg       0.85      0.85      0.85      1395\n",
            "\n"
          ]
        },
        {
          "output_type": "stream",
          "name": "stderr",
          "text": [
            "Epoch 26: 100%|██████████| 88/88 [02:28<00:00,  1.68s/it]\n"
          ]
        },
        {
          "output_type": "stream",
          "name": "stdout",
          "text": [
            "\n",
            "Epoch 26 | Avg Loss: 0.0262\n",
            "Validation Accuracy: 0.8552\n",
            "              precision    recall  f1-score   support\n",
            "\n",
            "           0       0.80      0.85      0.83       465\n",
            "           1       0.92      0.92      0.92       465\n",
            "           2       0.85      0.79      0.82       465\n",
            "\n",
            "    accuracy                           0.86      1395\n",
            "   macro avg       0.86      0.86      0.86      1395\n",
            "weighted avg       0.86      0.86      0.86      1395\n",
            "\n"
          ]
        },
        {
          "output_type": "stream",
          "name": "stderr",
          "text": [
            "Epoch 27: 100%|██████████| 88/88 [02:27<00:00,  1.68s/it]\n"
          ]
        },
        {
          "output_type": "stream",
          "name": "stdout",
          "text": [
            "\n",
            "Epoch 27 | Avg Loss: 0.0279\n",
            "Validation Accuracy: 0.8573\n",
            "              precision    recall  f1-score   support\n",
            "\n",
            "           0       0.82      0.85      0.83       465\n",
            "           1       0.90      0.93      0.91       465\n",
            "           2       0.86      0.79      0.82       465\n",
            "\n",
            "    accuracy                           0.86      1395\n",
            "   macro avg       0.86      0.86      0.86      1395\n",
            "weighted avg       0.86      0.86      0.86      1395\n",
            "\n"
          ]
        },
        {
          "output_type": "stream",
          "name": "stderr",
          "text": [
            "Epoch 28: 100%|██████████| 88/88 [02:28<00:00,  1.69s/it]\n"
          ]
        },
        {
          "output_type": "stream",
          "name": "stdout",
          "text": [
            "\n",
            "Epoch 28 | Avg Loss: 0.0286\n",
            "Validation Accuracy: 0.8552\n",
            "              precision    recall  f1-score   support\n",
            "\n",
            "           0       0.81      0.85      0.83       465\n",
            "           1       0.91      0.93      0.92       465\n",
            "           2       0.85      0.79      0.82       465\n",
            "\n",
            "    accuracy                           0.86      1395\n",
            "   macro avg       0.86      0.86      0.85      1395\n",
            "weighted avg       0.86      0.86      0.85      1395\n",
            "\n"
          ]
        },
        {
          "output_type": "stream",
          "name": "stderr",
          "text": [
            "Epoch 29: 100%|██████████| 88/88 [02:28<00:00,  1.68s/it]\n"
          ]
        },
        {
          "output_type": "stream",
          "name": "stdout",
          "text": [
            "\n",
            "Epoch 29 | Avg Loss: 0.0228\n",
            "Validation Accuracy: 0.8509\n",
            "              precision    recall  f1-score   support\n",
            "\n",
            "           0       0.85      0.78      0.81       465\n",
            "           1       0.91      0.92      0.91       465\n",
            "           2       0.80      0.86      0.83       465\n",
            "\n",
            "    accuracy                           0.85      1395\n",
            "   macro avg       0.85      0.85      0.85      1395\n",
            "weighted avg       0.85      0.85      0.85      1395\n",
            "\n"
          ]
        },
        {
          "output_type": "stream",
          "name": "stderr",
          "text": [
            "Epoch 30: 100%|██████████| 88/88 [02:27<00:00,  1.68s/it]\n"
          ]
        },
        {
          "output_type": "stream",
          "name": "stdout",
          "text": [
            "\n",
            "Epoch 30 | Avg Loss: 0.0247\n",
            "Validation Accuracy: 0.8595\n",
            "              precision    recall  f1-score   support\n",
            "\n",
            "           0       0.83      0.82      0.82       465\n",
            "           1       0.91      0.94      0.92       465\n",
            "           2       0.83      0.82      0.83       465\n",
            "\n",
            "    accuracy                           0.86      1395\n",
            "   macro avg       0.86      0.86      0.86      1395\n",
            "weighted avg       0.86      0.86      0.86      1395\n",
            "\n"
          ]
        },
        {
          "output_type": "stream",
          "name": "stderr",
          "text": [
            "Epoch 31: 100%|██████████| 88/88 [02:27<00:00,  1.68s/it]\n"
          ]
        },
        {
          "output_type": "stream",
          "name": "stdout",
          "text": [
            "\n",
            "Epoch 31 | Avg Loss: 0.0185\n",
            "Validation Accuracy: 0.8480\n",
            "              precision    recall  f1-score   support\n",
            "\n",
            "           0       0.81      0.81      0.81       465\n",
            "           1       0.91      0.93      0.92       465\n",
            "           2       0.82      0.81      0.81       465\n",
            "\n",
            "    accuracy                           0.85      1395\n",
            "   macro avg       0.85      0.85      0.85      1395\n",
            "weighted avg       0.85      0.85      0.85      1395\n",
            "\n"
          ]
        },
        {
          "output_type": "stream",
          "name": "stderr",
          "text": [
            "Epoch 32: 100%|██████████| 88/88 [02:27<00:00,  1.68s/it]\n"
          ]
        },
        {
          "output_type": "stream",
          "name": "stdout",
          "text": [
            "\n",
            "Epoch 32 | Avg Loss: 0.0208\n",
            "Validation Accuracy: 0.8538\n",
            "              precision    recall  f1-score   support\n",
            "\n",
            "           0       0.80      0.85      0.82       465\n",
            "           1       0.92      0.92      0.92       465\n",
            "           2       0.85      0.79      0.82       465\n",
            "\n",
            "    accuracy                           0.85      1395\n",
            "   macro avg       0.85      0.85      0.85      1395\n",
            "weighted avg       0.85      0.85      0.85      1395\n",
            "\n"
          ]
        },
        {
          "output_type": "stream",
          "name": "stderr",
          "text": [
            "Epoch 33: 100%|██████████| 88/88 [02:27<00:00,  1.68s/it]\n"
          ]
        },
        {
          "output_type": "stream",
          "name": "stdout",
          "text": [
            "\n",
            "Epoch 33 | Avg Loss: 0.0204\n",
            "Validation Accuracy: 0.8545\n",
            "              precision    recall  f1-score   support\n",
            "\n",
            "           0       0.80      0.85      0.83       465\n",
            "           1       0.91      0.92      0.92       465\n",
            "           2       0.85      0.78      0.82       465\n",
            "\n",
            "    accuracy                           0.85      1395\n",
            "   macro avg       0.86      0.85      0.85      1395\n",
            "weighted avg       0.86      0.85      0.85      1395\n",
            "\n"
          ]
        },
        {
          "output_type": "stream",
          "name": "stderr",
          "text": [
            "Epoch 34: 100%|██████████| 88/88 [02:28<00:00,  1.68s/it]\n"
          ]
        },
        {
          "output_type": "stream",
          "name": "stdout",
          "text": [
            "\n",
            "Epoch 34 | Avg Loss: 0.0168\n",
            "Validation Accuracy: 0.8487\n",
            "              precision    recall  f1-score   support\n",
            "\n",
            "           0       0.78      0.87      0.82       465\n",
            "           1       0.93      0.90      0.91       465\n",
            "           2       0.85      0.78      0.81       465\n",
            "\n",
            "    accuracy                           0.85      1395\n",
            "   macro avg       0.85      0.85      0.85      1395\n",
            "weighted avg       0.85      0.85      0.85      1395\n",
            "\n"
          ]
        },
        {
          "output_type": "stream",
          "name": "stderr",
          "text": [
            "Epoch 35: 100%|██████████| 88/88 [02:27<00:00,  1.68s/it]\n"
          ]
        },
        {
          "output_type": "stream",
          "name": "stdout",
          "text": [
            "\n",
            "Epoch 35 | Avg Loss: 0.0145\n",
            "Validation Accuracy: 0.8452\n",
            "              precision    recall  f1-score   support\n",
            "\n",
            "           0       0.82      0.80      0.81       465\n",
            "           1       0.90      0.92      0.91       465\n",
            "           2       0.81      0.81      0.81       465\n",
            "\n",
            "    accuracy                           0.85      1395\n",
            "   macro avg       0.84      0.85      0.84      1395\n",
            "weighted avg       0.84      0.85      0.84      1395\n",
            "\n"
          ]
        },
        {
          "output_type": "stream",
          "name": "stderr",
          "text": [
            "Epoch 36: 100%|██████████| 88/88 [02:28<00:00,  1.68s/it]\n"
          ]
        },
        {
          "output_type": "stream",
          "name": "stdout",
          "text": [
            "\n",
            "Epoch 36 | Avg Loss: 0.0246\n",
            "Validation Accuracy: 0.8573\n",
            "              precision    recall  f1-score   support\n",
            "\n",
            "           0       0.82      0.84      0.83       465\n",
            "           1       0.90      0.93      0.91       465\n",
            "           2       0.85      0.80      0.83       465\n",
            "\n",
            "    accuracy                           0.86      1395\n",
            "   macro avg       0.86      0.86      0.86      1395\n",
            "weighted avg       0.86      0.86      0.86      1395\n",
            "\n",
            "\n",
            "Early stopping triggered\n"
          ]
        }
      ],
      "source": [
        "# === Enhanced Training Loop ===\n",
        "best_accuracy = 0\n",
        "patience_counter = 0\n",
        "total_steps = len(train_loader) * config['num_epochs']\n",
        "\n",
        "for epoch in range(config['num_epochs']):\n",
        "    model.train()\n",
        "    total_loss = 0\n",
        "\n",
        "    for step, batch in enumerate(tqdm(train_loader, desc=f\"Epoch {epoch+1}\")):\n",
        "        optimizer.zero_grad()\n",
        "        inputs = {k: v.to(device) for k, v in batch.items()}\n",
        "        outputs = model(**inputs)\n",
        "        loss = outputs.loss\n",
        "        loss.backward()\n",
        "\n",
        "        torch.nn.utils.clip_grad_norm_(model.parameters(), config['max_grad_norm'])\n",
        "        optimizer.step()\n",
        "\n",
        "        total_loss += loss.item()\n",
        "\n",
        "\n",
        "\n",
        "    scheduler.step()\n",
        "\n",
        "    avg_loss = total_loss / len(train_loader)  # Normalize loss\n",
        "    # Enhanced Validation\n",
        "    model.eval()\n",
        "    all_preds, all_labels = [], []\n",
        "    with torch.no_grad():\n",
        "        for batch in dev_loader:\n",
        "            inputs = {k: v.to(device) for k, v in batch.items()}\n",
        "            outputs = model(**inputs)\n",
        "            preds = torch.argmax(outputs.logits, dim=-1)\n",
        "            all_preds.extend(preds.cpu().numpy())\n",
        "            all_labels.extend(batch['labels'].cpu().numpy())\n",
        "\n",
        "    report = classification_report(\n",
        "        all_labels,\n",
        "        all_preds,\n",
        "        target_names=['entailment', 'contradiction', 'neutral'],\n",
        "        output_dict=True\n",
        "    )\n",
        "\n",
        "    current_accuracy = report.get('accuracy', 0.0)  # Safer accuracy extraction\n",
        "    print(f\"\\nEpoch {epoch+1} | Avg Loss: {avg_loss:.4f}\")\n",
        "    print(f\"Validation Accuracy: {current_accuracy:.4f}\")\n",
        "    print(classification_report(all_labels, all_preds))\n",
        "\n",
        "    # Early stopping with model checkpointing\n",
        "    if current_accuracy > best_accuracy:\n",
        "        best_accuracy = current_accuracy\n",
        "        patience_counter = 0\n",
        "        torch.save(model.state_dict(), 'best_model.pt')\n",
        "    else:\n",
        "        patience_counter += 1\n",
        "        if patience_counter >= config['early_stop_patience']:\n",
        "            print(\"\\nEarly stopping triggered\")\n",
        "            break"
      ]
    },
    {
      "cell_type": "code",
      "execution_count": null,
      "metadata": {
        "trusted": true,
        "id": "fe9A-fP1c4sZ"
      },
      "outputs": [],
      "source": []
    }
  ],
  "metadata": {
    "kaggle": {
      "accelerator": "gpu",
      "dataSources": [
        {
          "datasetId": 6727352,
          "sourceId": 10833399,
          "sourceType": "datasetVersion"
        }
      ],
      "dockerImageVersionId": 30919,
      "isGpuEnabled": true,
      "isInternetEnabled": true,
      "language": "python",
      "sourceType": "notebook"
    },
    "kernelspec": {
      "display_name": "Python 3",
      "name": "python3"
    },
    "language_info": {
      "codemirror_mode": {
        "name": "ipython",
        "version": 3
      },
      "file_extension": ".py",
      "mimetype": "text/x-python",
      "name": "python",
      "nbconvert_exporter": "python",
      "pygments_lexer": "ipython3",
      "version": "3.10.12"
    },
    "colab": {
      "provenance": [],
      "gpuType": "T4"
    },
    "accelerator": "GPU"
  },
  "nbformat": 4,
  "nbformat_minor": 0
}