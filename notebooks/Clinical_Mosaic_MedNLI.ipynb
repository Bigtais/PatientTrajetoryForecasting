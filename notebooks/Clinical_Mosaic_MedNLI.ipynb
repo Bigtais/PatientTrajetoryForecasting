{
 "cells": [
  {
   "cell_type": "code",
   "execution_count": 1,
   "metadata": {
    "execution": {
     "iopub.execute_input": "2025-02-24T09:43:42.004126Z",
     "iopub.status.busy": "2025-02-24T09:43:42.003858Z",
     "iopub.status.idle": "2025-02-24T09:43:42.007895Z",
     "shell.execute_reply": "2025-02-24T09:43:42.006985Z",
     "shell.execute_reply.started": "2025-02-24T09:43:42.004097Z"
    },
    "trusted": true
   },
   "outputs": [],
   "source": [
    "# Download dataset first: https://physionet.org/content/mednli/1.0.0/\n",
    "# Requires credentialed access"
   ]
  },
  {
   "cell_type": "code",
   "execution_count": 2,
   "metadata": {
    "execution": {
     "iopub.execute_input": "2025-02-24T09:43:42.009885Z",
     "iopub.status.busy": "2025-02-24T09:43:42.009636Z",
     "iopub.status.idle": "2025-02-24T09:43:42.182490Z",
     "shell.execute_reply": "2025-02-24T09:43:42.180942Z",
     "shell.execute_reply.started": "2025-02-24T09:43:42.009859Z"
    },
    "trusted": true
   },
   "outputs": [],
   "source": [
    "cp -r /kaggle/input/mednli/mednli-a-natural-language-inference-dataset-for-the-clinical-domain-1.0.0 ./"
   ]
  },
  {
   "cell_type": "code",
   "execution_count": 3,
   "metadata": {
    "execution": {
     "iopub.execute_input": "2025-02-24T09:43:42.184512Z",
     "iopub.status.busy": "2025-02-24T09:43:42.184225Z",
     "iopub.status.idle": "2025-02-24T09:43:42.191010Z",
     "shell.execute_reply": "2025-02-24T09:43:42.190210Z",
     "shell.execute_reply.started": "2025-02-24T09:43:42.184486Z"
    },
    "trusted": true
   },
   "outputs": [
    {
     "name": "stdout",
     "output_type": "stream",
     "text": [
      "/kaggle/working/mednli-a-natural-language-inference-dataset-for-the-clinical-domain-1.0.0\n"
     ]
    }
   ],
   "source": [
    "cd mednli-a-natural-language-inference-dataset-for-the-clinical-domain-1.0.0"
   ]
  },
  {
   "cell_type": "code",
   "execution_count": 4,
   "metadata": {
    "execution": {
     "iopub.execute_input": "2025-02-24T09:43:42.192054Z",
     "iopub.status.busy": "2025-02-24T09:43:42.191841Z",
     "iopub.status.idle": "2025-02-24T09:43:45.841283Z",
     "shell.execute_reply": "2025-02-24T09:43:45.840619Z",
     "shell.execute_reply.started": "2025-02-24T09:43:42.192035Z"
    },
    "trusted": true
   },
   "outputs": [],
   "source": [
    "import os\n",
    "import json\n",
    "import torch\n",
    "import random\n",
    "import numpy as np\n",
    "from torch.utils.data import Dataset, DataLoader\n",
    "from transformers import (\n",
    "    AutoModelForSequenceClassification,\n",
    "    AutoTokenizer,\n",
    "    get_linear_schedule_with_warmup\n",
    ")\n",
    "from sklearn.metrics import classification_report\n",
    "from tqdm import tqdm\n",
    "from torch.optim import AdamW\n",
    "\n",
    "# === Determinism Configuration ===\n",
    "SEED = 55212\n",
    "torch.manual_seed(SEED)\n",
    "torch.cuda.manual_seed_all(SEED)\n",
    "torch.backends.cudnn.deterministic = True\n",
    "torch.backends.cudnn.benchmark = False\n",
    "torch.use_deterministic_algorithms(True)\n",
    "os.environ['CUBLAS_WORKSPACE_CONFIG'] = ':4096:8'\n",
    "np.random.seed(SEED)\n",
    "random.seed(SEED)\n"
   ]
  },
  {
   "cell_type": "code",
   "execution_count": 5,
   "metadata": {
    "execution": {
     "iopub.execute_input": "2025-02-24T09:43:45.842590Z",
     "iopub.status.busy": "2025-02-24T09:43:45.842083Z",
     "iopub.status.idle": "2025-02-24T09:43:45.873308Z",
     "shell.execute_reply": "2025-02-24T09:43:45.871989Z",
     "shell.execute_reply.started": "2025-02-24T09:43:45.842563Z"
    },
    "trusted": true
   },
   "outputs": [],
   "source": [
    "# === Optimizer Configuration ===\n",
    "from torch.optim.lr_scheduler import LambdaLR\n",
    "\n",
    "# === Hardware Setup ===\n",
    "device = torch.device(\"cuda\" if torch.cuda.is_available() else \"cpu\")\n",
    "\n",
    "# === Model Initialization ===\n",
    "def get_model():\n",
    "    model = AutoModelForSequenceClassification.from_pretrained(\n",
    "        'Sifal/ClinicalMosaic',\n",
    "        num_labels=3,\n",
    "        torch_dtype='auto',\n",
    "        trust_remote_code=True,\n",
    "    )\n",
    "    return model.to(device)\n",
    "\n",
    "# === Optimizer Configuration ===\n",
    "def get_model_and_optimizer(\n",
    "                            learning_rate,\n",
    "                            classifier_lr,\n",
    "                            weight_decay,\n",
    "                            beta1, beta2,\n",
    "                            eps,\n",
    "                            num_epochs,\n",
    "                            num_warmup_epochs,\n",
    "                            freeze_backbone=True,\n",
    "                            decay=False\n",
    "    ):\n",
    "    \n",
    "    model = get_model()\n",
    "\n",
    "    if freeze_backbone:\n",
    "        for param in model.embedder.parameters():\n",
    "            param.requires_grad = False\n",
    "\n",
    "    no_decay = [\"bias\", \"LayerNorm.weight\"]\n",
    "    optimizer_grouped_parameters = [\n",
    "        {\n",
    "            \"params\": [p for n, p in model.named_parameters() if \"classifier\" not in n and not any(nd in n for nd in no_decay)],\n",
    "            \"weight_decay\": weight_decay,\n",
    "            \"lr\": learning_rate,\n",
    "        },\n",
    "        {\n",
    "            \"params\": [p for n, p in model.named_parameters() if \"classifier\" not in n and any(nd in n for nd in no_decay)],\n",
    "            \"weight_decay\": 0.0,\n",
    "            \"lr\": learning_rate,\n",
    "        },\n",
    "        {\n",
    "            \"params\": [p for n, p in model.named_parameters() if \"classifier\" in n],\n",
    "            \"weight_decay\": weight_decay,\n",
    "            \"lr\": classifier_lr,\n",
    "        },\n",
    "    ]\n",
    "\n",
    "    optimizer = AdamW(\n",
    "        optimizer_grouped_parameters,\n",
    "        betas=(beta1, beta2),\n",
    "        eps=eps,\n",
    "    )\n",
    "\n",
    "    def warmup_stable_decay(epoch):\n",
    "        if epoch < num_warmup_epochs:\n",
    "            return epoch / num_warmup_epochs  # Linear warmup\n",
    "        elif epoch < num_epochs * 0.75:  # Keep stable for 75% of training\n",
    "            return 1.0\n",
    "        else:\n",
    "            return max(0.1, (num_epochs - epoch) / (num_epochs * 0.25))  # Decay over last 25%\n",
    "\n",
    "    scheduler = LambdaLR(optimizer, lr_lambda=warmup_stable_decay)\n",
    "\n",
    "    return model, optimizer, scheduler\n",
    "    \n",
    "# === Data Loading ===\n",
    "class MedNLIDataset(Dataset):\n",
    "    def __init__(self, filename, tokenizer):\n",
    "        self.data = []\n",
    "        with open(filename, 'r') as f:\n",
    "            for line in f:\n",
    "                item = json.loads(line)\n",
    "                self.data.append(item)\n",
    "        self.tokenizer = tokenizer\n",
    "        self.label_map = {'entailment': 0, 'contradiction': 1, 'neutral': 2}\n",
    "\n",
    "    def __len__(self):\n",
    "        return len(self.data)\n",
    "\n",
    "    def __getitem__(self, idx):\n",
    "        item = self.data[idx]\n",
    "        encoded = self.tokenizer(\n",
    "            item['sentence1'],\n",
    "            item['sentence2'],\n",
    "            truncation=True,\n",
    "            padding='max_length',\n",
    "            max_length=128,\n",
    "            return_tensors=\"pt\"\n",
    "        )\n",
    "        return {\n",
    "            **{key: val.squeeze(0) for key, val in encoded.items()},  # Removing batch dimension\n",
    "            'labels': torch.tensor(self.label_map[item['gold_label']], dtype=torch.long)\n",
    "        }\n",
    "\n",
    "def seed_worker(worker_id):\n",
    "    worker_seed = torch.initial_seed() % 2**32\n",
    "    np.random.seed(worker_seed)\n",
    "    random.seed(worker_seed)\n",
    "\n",
    "\n",
    "def seed_worker(worker_id):\n",
    "    worker_seed = torch.initial_seed() % 2**32\n",
    "    np.random.seed(worker_seed)\n",
    "    random.seed(worker_seed)\n"
   ]
  },
  {
   "cell_type": "code",
   "execution_count": 13,
   "metadata": {
    "execution": {
     "iopub.execute_input": "2025-02-24T10:08:30.261977Z",
     "iopub.status.busy": "2025-02-24T10:08:30.261672Z",
     "iopub.status.idle": "2025-02-24T10:08:30.265585Z",
     "shell.execute_reply": "2025-02-24T10:08:30.264640Z",
     "shell.execute_reply.started": "2025-02-24T10:08:30.261954Z"
    },
    "trusted": true
   },
   "outputs": [],
   "source": [
    "config = { \n",
    "    'batch_size': 64,\n",
    "     'eval_batch_size': 64,         \n",
    "}\n"
   ]
  },
  {
   "cell_type": "code",
   "execution_count": 14,
   "metadata": {
    "execution": {
     "iopub.execute_input": "2025-02-24T10:08:35.906856Z",
     "iopub.status.busy": "2025-02-24T10:08:35.906528Z",
     "iopub.status.idle": "2025-02-24T10:08:36.203293Z",
     "shell.execute_reply": "2025-02-24T10:08:36.202342Z",
     "shell.execute_reply.started": "2025-02-24T10:08:35.906827Z"
    },
    "trusted": true
   },
   "outputs": [],
   "source": [
    "# === Training Setup ===\n",
    "tokenizer = AutoTokenizer.from_pretrained('Sifal/ClinicalMosaic')\n",
    "\n",
    "# Create datasets\n",
    "train_dataset = MedNLIDataset('mli_train_v1.jsonl', tokenizer)\n",
    "dev_dataset = MedNLIDataset('mli_dev_v1.jsonl', tokenizer)\n",
    "test_dataset = MedNLIDataset('mli_test_v1.jsonl', tokenizer)\n",
    "\n",
    "\n",
    "# Deterministic data loaders\n",
    "g = torch.Generator()\n",
    "g.manual_seed(SEED)\n",
    "\n",
    "train_loader = DataLoader(\n",
    "    train_dataset,\n",
    "    batch_size=config['batch_size'],\n",
    "    shuffle=True,\n",
    "    num_workers=0,\n",
    "    worker_init_fn=seed_worker,\n",
    "    generator=g\n",
    ")\n",
    "\n",
    "dev_loader = DataLoader(\n",
    "    dev_dataset,\n",
    "    batch_size=config['eval_batch_size'],\n",
    "    num_workers=0\n",
    ")\n",
    "\n",
    "test_loader = DataLoader(\n",
    "    test_dataset,\n",
    "    batch_size=config['eval_batch_size'],\n",
    "    num_workers=0\n",
    ")\n"
   ]
  },
  {
   "cell_type": "code",
   "execution_count": 15,
   "metadata": {
    "execution": {
     "iopub.execute_input": "2025-02-24T10:08:36.507479Z",
     "iopub.status.busy": "2025-02-24T10:08:36.507080Z",
     "iopub.status.idle": "2025-02-24T10:08:36.511720Z",
     "shell.execute_reply": "2025-02-24T10:08:36.510715Z",
     "shell.execute_reply.started": "2025-02-24T10:08:36.507444Z"
    },
    "trusted": true
   },
   "outputs": [],
   "source": [
    "config = {\n",
    "    'learning_rate': 2e-5,\n",
    "    'classifier_lr': 2e-4,\n",
    "    'weight_decay':  1e-6,          \n",
    "    'beta1': 0.9,\n",
    "    'beta2': 0.98,                 \n",
    "    'eps': 1e-6,                   \n",
    "    'batch_size': 64,\n",
    "    'eval_batch_size': 64,         \n",
    "    'max_grad_norm': 1.0,\n",
    "    'num_epochs': 40,\n",
    "    'num_warmup_epochs' : 5,\n",
    "    'early_stop_patience': 10,\n",
    "    'freeze_backbone' : False,\n",
    "    'decay' : True,\n",
    "}"
   ]
  },
  {
   "cell_type": "code",
   "execution_count": 16,
   "metadata": {
    "execution": {
     "iopub.execute_input": "2025-02-24T10:08:39.416927Z",
     "iopub.status.busy": "2025-02-24T10:08:39.416628Z",
     "iopub.status.idle": "2025-02-24T10:08:41.448541Z",
     "shell.execute_reply": "2025-02-24T10:08:41.447516Z",
     "shell.execute_reply.started": "2025-02-24T10:08:39.416902Z"
    },
    "trusted": true
   },
   "outputs": [
    {
     "name": "stderr",
     "output_type": "stream",
     "text": [
      "You are using a model of type bert to instantiate a model of type clinical_mosaic. This is not supported for all configurations of models and can yield errors.\n"
     ]
    },
    {
     "name": "stdout",
     "output_type": "stream",
     "text": [
      "Checkpoint does not contain the classification layer (768x3 + 3 = 2307 params). It will be randomly initialized.\n"
     ]
    }
   ],
   "source": [
    "# Initialize components\n",
    "model, optimizer, scheduler = get_model_and_optimizer(\n",
    "    config['learning_rate'],\n",
    "    config['classifier_lr'],\n",
    "    config['weight_decay'],\n",
    "    config['beta1'],\n",
    "    config['beta2'],\n",
    "    config['eps'],\n",
    "    config['num_epochs'],\n",
    "    config['num_warmup_epochs'],\n",
    "    freeze_backbone = False,\n",
    "    decay = True   \n",
    ")"
   ]
  },
  {
   "cell_type": "code",
   "execution_count": 17,
   "metadata": {
    "execution": {
     "iopub.execute_input": "2025-02-24T10:08:59.534238Z",
     "iopub.status.busy": "2025-02-24T10:08:59.533931Z",
     "iopub.status.idle": "2025-02-24T11:08:19.172323Z",
     "shell.execute_reply": "2025-02-24T11:08:19.171479Z",
     "shell.execute_reply.started": "2025-02-24T10:08:59.534211Z"
    },
    "trusted": true
   },
   "outputs": [
    {
     "name": "stderr",
     "output_type": "stream",
     "text": [
      "Epoch 1: 100%|██████████| 176/176 [01:32<00:00,  1.90it/s]\n"
     ]
    },
    {
     "name": "stdout",
     "output_type": "stream",
     "text": [
      "\n",
      "Epoch 1 | Avg Loss: 1.1061\n",
      "Validation Accuracy: 0.3427\n",
      "              precision    recall  f1-score   support\n",
      "\n",
      "           0       0.33      0.55      0.42       465\n",
      "           1       0.36      0.23      0.28       465\n",
      "           2       0.35      0.25      0.29       465\n",
      "\n",
      "    accuracy                           0.34      1395\n",
      "   macro avg       0.35      0.34      0.33      1395\n",
      "weighted avg       0.35      0.34      0.33      1395\n",
      "\n"
     ]
    },
    {
     "name": "stderr",
     "output_type": "stream",
     "text": [
      "Epoch 2: 100%|██████████| 176/176 [01:32<00:00,  1.90it/s]\n"
     ]
    },
    {
     "name": "stdout",
     "output_type": "stream",
     "text": [
      "\n",
      "Epoch 2 | Avg Loss: 1.1022\n",
      "Validation Accuracy: 0.3462\n",
      "              precision    recall  f1-score   support\n",
      "\n",
      "           0       0.34      0.46      0.39       465\n",
      "           1       0.38      0.17      0.23       465\n",
      "           2       0.34      0.41      0.37       465\n",
      "\n",
      "    accuracy                           0.35      1395\n",
      "   macro avg       0.35      0.35      0.33      1395\n",
      "weighted avg       0.35      0.35      0.33      1395\n",
      "\n"
     ]
    },
    {
     "name": "stderr",
     "output_type": "stream",
     "text": [
      "Epoch 3: 100%|██████████| 176/176 [01:32<00:00,  1.90it/s]\n"
     ]
    },
    {
     "name": "stdout",
     "output_type": "stream",
     "text": [
      "\n",
      "Epoch 3 | Avg Loss: 1.0916\n",
      "Validation Accuracy: 0.4903\n",
      "              precision    recall  f1-score   support\n",
      "\n",
      "           0       0.44      0.09      0.15       465\n",
      "           1       0.60      0.60      0.60       465\n",
      "           2       0.44      0.78      0.56       465\n",
      "\n",
      "    accuracy                           0.49      1395\n",
      "   macro avg       0.49      0.49      0.44      1395\n",
      "weighted avg       0.49      0.49      0.44      1395\n",
      "\n"
     ]
    },
    {
     "name": "stderr",
     "output_type": "stream",
     "text": [
      "Epoch 4: 100%|██████████| 176/176 [01:32<00:00,  1.90it/s]\n"
     ]
    },
    {
     "name": "stdout",
     "output_type": "stream",
     "text": [
      "\n",
      "Epoch 4 | Avg Loss: 0.8609\n",
      "Validation Accuracy: 0.7025\n",
      "              precision    recall  f1-score   support\n",
      "\n",
      "           0       0.65      0.52      0.58       465\n",
      "           1       0.87      0.84      0.85       465\n",
      "           2       0.60      0.75      0.67       465\n",
      "\n",
      "    accuracy                           0.70      1395\n",
      "   macro avg       0.71      0.70      0.70      1395\n",
      "weighted avg       0.71      0.70      0.70      1395\n",
      "\n"
     ]
    },
    {
     "name": "stderr",
     "output_type": "stream",
     "text": [
      "Epoch 5: 100%|██████████| 176/176 [01:32<00:00,  1.90it/s]\n"
     ]
    },
    {
     "name": "stdout",
     "output_type": "stream",
     "text": [
      "\n",
      "Epoch 5 | Avg Loss: 0.6261\n",
      "Validation Accuracy: 0.8100\n",
      "              precision    recall  f1-score   support\n",
      "\n",
      "           0       0.75      0.78      0.77       465\n",
      "           1       0.91      0.86      0.89       465\n",
      "           2       0.78      0.78      0.78       465\n",
      "\n",
      "    accuracy                           0.81      1395\n",
      "   macro avg       0.81      0.81      0.81      1395\n",
      "weighted avg       0.81      0.81      0.81      1395\n",
      "\n"
     ]
    },
    {
     "name": "stderr",
     "output_type": "stream",
     "text": [
      "Epoch 6: 100%|██████████| 176/176 [01:32<00:00,  1.90it/s]\n"
     ]
    },
    {
     "name": "stdout",
     "output_type": "stream",
     "text": [
      "\n",
      "Epoch 6 | Avg Loss: 0.4848\n",
      "Validation Accuracy: 0.8358\n",
      "              precision    recall  f1-score   support\n",
      "\n",
      "           0       0.77      0.83      0.80       465\n",
      "           1       0.92      0.86      0.89       465\n",
      "           2       0.82      0.82      0.82       465\n",
      "\n",
      "    accuracy                           0.84      1395\n",
      "   macro avg       0.84      0.84      0.84      1395\n",
      "weighted avg       0.84      0.84      0.84      1395\n",
      "\n"
     ]
    },
    {
     "name": "stderr",
     "output_type": "stream",
     "text": [
      "Epoch 7: 100%|██████████| 176/176 [01:32<00:00,  1.90it/s]\n"
     ]
    },
    {
     "name": "stdout",
     "output_type": "stream",
     "text": [
      "\n",
      "Epoch 7 | Avg Loss: 0.3680\n",
      "Validation Accuracy: 0.8366\n",
      "              precision    recall  f1-score   support\n",
      "\n",
      "           0       0.81      0.79      0.80       465\n",
      "           1       0.94      0.87      0.90       465\n",
      "           2       0.78      0.85      0.81       465\n",
      "\n",
      "    accuracy                           0.84      1395\n",
      "   macro avg       0.84      0.84      0.84      1395\n",
      "weighted avg       0.84      0.84      0.84      1395\n",
      "\n"
     ]
    },
    {
     "name": "stderr",
     "output_type": "stream",
     "text": [
      "Epoch 8: 100%|██████████| 176/176 [01:32<00:00,  1.90it/s]\n"
     ]
    },
    {
     "name": "stdout",
     "output_type": "stream",
     "text": [
      "\n",
      "Epoch 8 | Avg Loss: 0.2810\n",
      "Validation Accuracy: 0.8437\n",
      "              precision    recall  f1-score   support\n",
      "\n",
      "           0       0.82      0.79      0.81       465\n",
      "           1       0.91      0.90      0.91       465\n",
      "           2       0.80      0.84      0.82       465\n",
      "\n",
      "    accuracy                           0.84      1395\n",
      "   macro avg       0.84      0.84      0.84      1395\n",
      "weighted avg       0.84      0.84      0.84      1395\n",
      "\n"
     ]
    },
    {
     "name": "stderr",
     "output_type": "stream",
     "text": [
      "Epoch 9: 100%|██████████| 176/176 [01:32<00:00,  1.90it/s]\n"
     ]
    },
    {
     "name": "stdout",
     "output_type": "stream",
     "text": [
      "\n",
      "Epoch 9 | Avg Loss: 0.2024\n",
      "Validation Accuracy: 0.8480\n",
      "              precision    recall  f1-score   support\n",
      "\n",
      "           0       0.82      0.82      0.82       465\n",
      "           1       0.90      0.91      0.91       465\n",
      "           2       0.82      0.82      0.82       465\n",
      "\n",
      "    accuracy                           0.85      1395\n",
      "   macro avg       0.85      0.85      0.85      1395\n",
      "weighted avg       0.85      0.85      0.85      1395\n",
      "\n"
     ]
    },
    {
     "name": "stderr",
     "output_type": "stream",
     "text": [
      "Epoch 10: 100%|██████████| 176/176 [01:32<00:00,  1.90it/s]\n"
     ]
    },
    {
     "name": "stdout",
     "output_type": "stream",
     "text": [
      "\n",
      "Epoch 10 | Avg Loss: 0.1533\n",
      "Validation Accuracy: 0.8430\n",
      "              precision    recall  f1-score   support\n",
      "\n",
      "           0       0.82      0.81      0.82       465\n",
      "           1       0.90      0.91      0.90       465\n",
      "           2       0.81      0.81      0.81       465\n",
      "\n",
      "    accuracy                           0.84      1395\n",
      "   macro avg       0.84      0.84      0.84      1395\n",
      "weighted avg       0.84      0.84      0.84      1395\n",
      "\n"
     ]
    },
    {
     "name": "stderr",
     "output_type": "stream",
     "text": [
      "Epoch 11: 100%|██████████| 176/176 [01:32<00:00,  1.90it/s]\n"
     ]
    },
    {
     "name": "stdout",
     "output_type": "stream",
     "text": [
      "\n",
      "Epoch 11 | Avg Loss: 0.1067\n",
      "Validation Accuracy: 0.8466\n",
      "              precision    recall  f1-score   support\n",
      "\n",
      "           0       0.83      0.81      0.82       465\n",
      "           1       0.90      0.91      0.90       465\n",
      "           2       0.81      0.82      0.81       465\n",
      "\n",
      "    accuracy                           0.85      1395\n",
      "   macro avg       0.85      0.85      0.85      1395\n",
      "weighted avg       0.85      0.85      0.85      1395\n",
      "\n"
     ]
    },
    {
     "name": "stderr",
     "output_type": "stream",
     "text": [
      "Epoch 12: 100%|██████████| 176/176 [01:32<00:00,  1.90it/s]\n"
     ]
    },
    {
     "name": "stdout",
     "output_type": "stream",
     "text": [
      "\n",
      "Epoch 12 | Avg Loss: 0.0882\n",
      "Validation Accuracy: 0.8452\n",
      "              precision    recall  f1-score   support\n",
      "\n",
      "           0       0.80      0.83      0.82       465\n",
      "           1       0.91      0.91      0.91       465\n",
      "           2       0.83      0.79      0.81       465\n",
      "\n",
      "    accuracy                           0.85      1395\n",
      "   macro avg       0.85      0.85      0.85      1395\n",
      "weighted avg       0.85      0.85      0.85      1395\n",
      "\n"
     ]
    },
    {
     "name": "stderr",
     "output_type": "stream",
     "text": [
      "Epoch 13: 100%|██████████| 176/176 [01:32<00:00,  1.90it/s]\n"
     ]
    },
    {
     "name": "stdout",
     "output_type": "stream",
     "text": [
      "\n",
      "Epoch 13 | Avg Loss: 0.0687\n",
      "Validation Accuracy: 0.8566\n",
      "              precision    recall  f1-score   support\n",
      "\n",
      "           0       0.81      0.86      0.83       465\n",
      "           1       0.95      0.89      0.92       465\n",
      "           2       0.82      0.83      0.82       465\n",
      "\n",
      "    accuracy                           0.86      1395\n",
      "   macro avg       0.86      0.86      0.86      1395\n",
      "weighted avg       0.86      0.86      0.86      1395\n",
      "\n"
     ]
    },
    {
     "name": "stderr",
     "output_type": "stream",
     "text": [
      "Epoch 14: 100%|██████████| 176/176 [01:32<00:00,  1.90it/s]\n"
     ]
    },
    {
     "name": "stdout",
     "output_type": "stream",
     "text": [
      "\n",
      "Epoch 14 | Avg Loss: 0.0617\n",
      "Validation Accuracy: 0.8559\n",
      "              precision    recall  f1-score   support\n",
      "\n",
      "           0       0.81      0.86      0.83       465\n",
      "           1       0.93      0.91      0.92       465\n",
      "           2       0.83      0.80      0.82       465\n",
      "\n",
      "    accuracy                           0.86      1395\n",
      "   macro avg       0.86      0.86      0.86      1395\n",
      "weighted avg       0.86      0.86      0.86      1395\n",
      "\n"
     ]
    },
    {
     "name": "stderr",
     "output_type": "stream",
     "text": [
      "Epoch 15: 100%|██████████| 176/176 [01:32<00:00,  1.90it/s]\n"
     ]
    },
    {
     "name": "stdout",
     "output_type": "stream",
     "text": [
      "\n",
      "Epoch 15 | Avg Loss: 0.0558\n",
      "Validation Accuracy: 0.8502\n",
      "              precision    recall  f1-score   support\n",
      "\n",
      "           0       0.79      0.85      0.82       465\n",
      "           1       0.93      0.91      0.92       465\n",
      "           2       0.83      0.80      0.82       465\n",
      "\n",
      "    accuracy                           0.85      1395\n",
      "   macro avg       0.85      0.85      0.85      1395\n",
      "weighted avg       0.85      0.85      0.85      1395\n",
      "\n"
     ]
    },
    {
     "name": "stderr",
     "output_type": "stream",
     "text": [
      "Epoch 16: 100%|██████████| 176/176 [01:32<00:00,  1.90it/s]\n"
     ]
    },
    {
     "name": "stdout",
     "output_type": "stream",
     "text": [
      "\n",
      "Epoch 16 | Avg Loss: 0.0496\n",
      "Validation Accuracy: 0.8573\n",
      "              precision    recall  f1-score   support\n",
      "\n",
      "           0       0.82      0.83      0.83       465\n",
      "           1       0.93      0.91      0.92       465\n",
      "           2       0.82      0.83      0.83       465\n",
      "\n",
      "    accuracy                           0.86      1395\n",
      "   macro avg       0.86      0.86      0.86      1395\n",
      "weighted avg       0.86      0.86      0.86      1395\n",
      "\n"
     ]
    },
    {
     "name": "stderr",
     "output_type": "stream",
     "text": [
      "Epoch 17: 100%|██████████| 176/176 [01:32<00:00,  1.90it/s]\n"
     ]
    },
    {
     "name": "stdout",
     "output_type": "stream",
     "text": [
      "\n",
      "Epoch 17 | Avg Loss: 0.0393\n",
      "Validation Accuracy: 0.8416\n",
      "              precision    recall  f1-score   support\n",
      "\n",
      "           0       0.80      0.84      0.82       465\n",
      "           1       0.92      0.89      0.91       465\n",
      "           2       0.81      0.79      0.80       465\n",
      "\n",
      "    accuracy                           0.84      1395\n",
      "   macro avg       0.84      0.84      0.84      1395\n",
      "weighted avg       0.84      0.84      0.84      1395\n",
      "\n"
     ]
    },
    {
     "name": "stderr",
     "output_type": "stream",
     "text": [
      "Epoch 18: 100%|██████████| 176/176 [01:32<00:00,  1.90it/s]\n"
     ]
    },
    {
     "name": "stdout",
     "output_type": "stream",
     "text": [
      "\n",
      "Epoch 18 | Avg Loss: 0.0395\n",
      "Validation Accuracy: 0.8509\n",
      "              precision    recall  f1-score   support\n",
      "\n",
      "           0       0.84      0.81      0.82       465\n",
      "           1       0.91      0.91      0.91       465\n",
      "           2       0.80      0.83      0.82       465\n",
      "\n",
      "    accuracy                           0.85      1395\n",
      "   macro avg       0.85      0.85      0.85      1395\n",
      "weighted avg       0.85      0.85      0.85      1395\n",
      "\n"
     ]
    },
    {
     "name": "stderr",
     "output_type": "stream",
     "text": [
      "Epoch 19: 100%|██████████| 176/176 [01:32<00:00,  1.90it/s]\n"
     ]
    },
    {
     "name": "stdout",
     "output_type": "stream",
     "text": [
      "\n",
      "Epoch 19 | Avg Loss: 0.0383\n",
      "Validation Accuracy: 0.8581\n",
      "              precision    recall  f1-score   support\n",
      "\n",
      "           0       0.84      0.82      0.83       465\n",
      "           1       0.93      0.91      0.92       465\n",
      "           2       0.81      0.84      0.83       465\n",
      "\n",
      "    accuracy                           0.86      1395\n",
      "   macro avg       0.86      0.86      0.86      1395\n",
      "weighted avg       0.86      0.86      0.86      1395\n",
      "\n"
     ]
    },
    {
     "name": "stderr",
     "output_type": "stream",
     "text": [
      "Epoch 20: 100%|██████████| 176/176 [01:32<00:00,  1.89it/s]\n"
     ]
    },
    {
     "name": "stdout",
     "output_type": "stream",
     "text": [
      "\n",
      "Epoch 20 | Avg Loss: 0.0425\n",
      "Validation Accuracy: 0.8573\n",
      "              precision    recall  f1-score   support\n",
      "\n",
      "           0       0.83      0.83      0.83       465\n",
      "           1       0.92      0.91      0.91       465\n",
      "           2       0.83      0.83      0.83       465\n",
      "\n",
      "    accuracy                           0.86      1395\n",
      "   macro avg       0.86      0.86      0.86      1395\n",
      "weighted avg       0.86      0.86      0.86      1395\n",
      "\n"
     ]
    },
    {
     "name": "stderr",
     "output_type": "stream",
     "text": [
      "Epoch 21: 100%|██████████| 176/176 [01:32<00:00,  1.90it/s]\n"
     ]
    },
    {
     "name": "stdout",
     "output_type": "stream",
     "text": [
      "\n",
      "Epoch 21 | Avg Loss: 0.0359\n",
      "Validation Accuracy: 0.8502\n",
      "              precision    recall  f1-score   support\n",
      "\n",
      "           0       0.79      0.87      0.83       465\n",
      "           1       0.91      0.92      0.91       465\n",
      "           2       0.86      0.77      0.81       465\n",
      "\n",
      "    accuracy                           0.85      1395\n",
      "   macro avg       0.85      0.85      0.85      1395\n",
      "weighted avg       0.85      0.85      0.85      1395\n",
      "\n"
     ]
    },
    {
     "name": "stderr",
     "output_type": "stream",
     "text": [
      "Epoch 22: 100%|██████████| 176/176 [01:32<00:00,  1.90it/s]\n"
     ]
    },
    {
     "name": "stdout",
     "output_type": "stream",
     "text": [
      "\n",
      "Epoch 22 | Avg Loss: 0.0270\n",
      "Validation Accuracy: 0.8545\n",
      "              precision    recall  f1-score   support\n",
      "\n",
      "           0       0.80      0.87      0.84       465\n",
      "           1       0.92      0.91      0.91       465\n",
      "           2       0.85      0.78      0.81       465\n",
      "\n",
      "    accuracy                           0.85      1395\n",
      "   macro avg       0.86      0.85      0.85      1395\n",
      "weighted avg       0.86      0.85      0.85      1395\n",
      "\n"
     ]
    },
    {
     "name": "stderr",
     "output_type": "stream",
     "text": [
      "Epoch 23: 100%|██████████| 176/176 [01:32<00:00,  1.90it/s]\n"
     ]
    },
    {
     "name": "stdout",
     "output_type": "stream",
     "text": [
      "\n",
      "Epoch 23 | Avg Loss: 0.0298\n",
      "Validation Accuracy: 0.8573\n",
      "              precision    recall  f1-score   support\n",
      "\n",
      "           0       0.82      0.84      0.83       465\n",
      "           1       0.92      0.91      0.92       465\n",
      "           2       0.83      0.82      0.82       465\n",
      "\n",
      "    accuracy                           0.86      1395\n",
      "   macro avg       0.86      0.86      0.86      1395\n",
      "weighted avg       0.86      0.86      0.86      1395\n",
      "\n"
     ]
    },
    {
     "name": "stderr",
     "output_type": "stream",
     "text": [
      "Epoch 24: 100%|██████████| 176/176 [01:32<00:00,  1.91it/s]\n"
     ]
    },
    {
     "name": "stdout",
     "output_type": "stream",
     "text": [
      "\n",
      "Epoch 24 | Avg Loss: 0.0278\n",
      "Validation Accuracy: 0.8566\n",
      "              precision    recall  f1-score   support\n",
      "\n",
      "           0       0.85      0.81      0.83       465\n",
      "           1       0.92      0.90      0.91       465\n",
      "           2       0.80      0.86      0.83       465\n",
      "\n",
      "    accuracy                           0.86      1395\n",
      "   macro avg       0.86      0.86      0.86      1395\n",
      "weighted avg       0.86      0.86      0.86      1395\n",
      "\n"
     ]
    },
    {
     "name": "stderr",
     "output_type": "stream",
     "text": [
      "Epoch 25: 100%|██████████| 176/176 [01:32<00:00,  1.90it/s]\n"
     ]
    },
    {
     "name": "stdout",
     "output_type": "stream",
     "text": [
      "\n",
      "Epoch 25 | Avg Loss: 0.0271\n",
      "Validation Accuracy: 0.8502\n",
      "              precision    recall  f1-score   support\n",
      "\n",
      "           0       0.82      0.83      0.83       465\n",
      "           1       0.91      0.91      0.91       465\n",
      "           2       0.82      0.81      0.82       465\n",
      "\n",
      "    accuracy                           0.85      1395\n",
      "   macro avg       0.85      0.85      0.85      1395\n",
      "weighted avg       0.85      0.85      0.85      1395\n",
      "\n"
     ]
    },
    {
     "name": "stderr",
     "output_type": "stream",
     "text": [
      "Epoch 26: 100%|██████████| 176/176 [01:32<00:00,  1.90it/s]\n"
     ]
    },
    {
     "name": "stdout",
     "output_type": "stream",
     "text": [
      "\n",
      "Epoch 26 | Avg Loss: 0.0225\n",
      "Validation Accuracy: 0.8559\n",
      "              precision    recall  f1-score   support\n",
      "\n",
      "           0       0.83      0.83      0.83       465\n",
      "           1       0.92      0.91      0.92       465\n",
      "           2       0.82      0.83      0.82       465\n",
      "\n",
      "    accuracy                           0.86      1395\n",
      "   macro avg       0.86      0.86      0.86      1395\n",
      "weighted avg       0.86      0.86      0.86      1395\n",
      "\n"
     ]
    },
    {
     "name": "stderr",
     "output_type": "stream",
     "text": [
      "Epoch 27: 100%|██████████| 176/176 [01:32<00:00,  1.90it/s]\n"
     ]
    },
    {
     "name": "stdout",
     "output_type": "stream",
     "text": [
      "\n",
      "Epoch 27 | Avg Loss: 0.0221\n",
      "Validation Accuracy: 0.8645\n",
      "              precision    recall  f1-score   support\n",
      "\n",
      "           0       0.84      0.85      0.84       465\n",
      "           1       0.92      0.91      0.91       465\n",
      "           2       0.84      0.84      0.84       465\n",
      "\n",
      "    accuracy                           0.86      1395\n",
      "   macro avg       0.86      0.86      0.86      1395\n",
      "weighted avg       0.86      0.86      0.86      1395\n",
      "\n"
     ]
    },
    {
     "name": "stderr",
     "output_type": "stream",
     "text": [
      "Epoch 28: 100%|██████████| 176/176 [01:32<00:00,  1.90it/s]\n"
     ]
    },
    {
     "name": "stdout",
     "output_type": "stream",
     "text": [
      "\n",
      "Epoch 28 | Avg Loss: 0.0243\n",
      "Validation Accuracy: 0.8559\n",
      "              precision    recall  f1-score   support\n",
      "\n",
      "           0       0.84      0.82      0.83       465\n",
      "           1       0.90      0.93      0.91       465\n",
      "           2       0.83      0.82      0.82       465\n",
      "\n",
      "    accuracy                           0.86      1395\n",
      "   macro avg       0.86      0.86      0.86      1395\n",
      "weighted avg       0.86      0.86      0.86      1395\n",
      "\n"
     ]
    },
    {
     "name": "stderr",
     "output_type": "stream",
     "text": [
      "Epoch 29: 100%|██████████| 176/176 [01:32<00:00,  1.90it/s]\n"
     ]
    },
    {
     "name": "stdout",
     "output_type": "stream",
     "text": [
      "\n",
      "Epoch 29 | Avg Loss: 0.0223\n",
      "Validation Accuracy: 0.8616\n",
      "              precision    recall  f1-score   support\n",
      "\n",
      "           0       0.85      0.82      0.83       465\n",
      "           1       0.90      0.93      0.92       465\n",
      "           2       0.83      0.83      0.83       465\n",
      "\n",
      "    accuracy                           0.86      1395\n",
      "   macro avg       0.86      0.86      0.86      1395\n",
      "weighted avg       0.86      0.86      0.86      1395\n",
      "\n"
     ]
    },
    {
     "name": "stderr",
     "output_type": "stream",
     "text": [
      "Epoch 30: 100%|██████████| 176/176 [01:32<00:00,  1.90it/s]\n"
     ]
    },
    {
     "name": "stdout",
     "output_type": "stream",
     "text": [
      "\n",
      "Epoch 30 | Avg Loss: 0.0235\n",
      "Validation Accuracy: 0.8538\n",
      "              precision    recall  f1-score   support\n",
      "\n",
      "           0       0.82      0.85      0.83       465\n",
      "           1       0.92      0.89      0.90       465\n",
      "           2       0.83      0.83      0.83       465\n",
      "\n",
      "    accuracy                           0.85      1395\n",
      "   macro avg       0.86      0.85      0.85      1395\n",
      "weighted avg       0.86      0.85      0.85      1395\n",
      "\n"
     ]
    },
    {
     "name": "stderr",
     "output_type": "stream",
     "text": [
      "Epoch 31: 100%|██████████| 176/176 [01:32<00:00,  1.90it/s]\n"
     ]
    },
    {
     "name": "stdout",
     "output_type": "stream",
     "text": [
      "\n",
      "Epoch 31 | Avg Loss: 0.0194\n",
      "Validation Accuracy: 0.8495\n",
      "              precision    recall  f1-score   support\n",
      "\n",
      "           0       0.79      0.85      0.82       465\n",
      "           1       0.92      0.91      0.92       465\n",
      "           2       0.84      0.79      0.82       465\n",
      "\n",
      "    accuracy                           0.85      1395\n",
      "   macro avg       0.85      0.85      0.85      1395\n",
      "weighted avg       0.85      0.85      0.85      1395\n",
      "\n"
     ]
    },
    {
     "name": "stderr",
     "output_type": "stream",
     "text": [
      "Epoch 32: 100%|██████████| 176/176 [01:32<00:00,  1.90it/s]\n"
     ]
    },
    {
     "name": "stdout",
     "output_type": "stream",
     "text": [
      "\n",
      "Epoch 32 | Avg Loss: 0.0219\n",
      "Validation Accuracy: 0.8509\n",
      "              precision    recall  f1-score   support\n",
      "\n",
      "           0       0.83      0.82      0.82       465\n",
      "           1       0.91      0.90      0.90       465\n",
      "           2       0.82      0.83      0.82       465\n",
      "\n",
      "    accuracy                           0.85      1395\n",
      "   macro avg       0.85      0.85      0.85      1395\n",
      "weighted avg       0.85      0.85      0.85      1395\n",
      "\n"
     ]
    },
    {
     "name": "stderr",
     "output_type": "stream",
     "text": [
      "Epoch 33: 100%|██████████| 176/176 [01:32<00:00,  1.90it/s]\n"
     ]
    },
    {
     "name": "stdout",
     "output_type": "stream",
     "text": [
      "\n",
      "Epoch 33 | Avg Loss: 0.0144\n",
      "Validation Accuracy: 0.8516\n",
      "              precision    recall  f1-score   support\n",
      "\n",
      "           0       0.79      0.87      0.83       465\n",
      "           1       0.92      0.91      0.91       465\n",
      "           2       0.85      0.78      0.81       465\n",
      "\n",
      "    accuracy                           0.85      1395\n",
      "   macro avg       0.85      0.85      0.85      1395\n",
      "weighted avg       0.85      0.85      0.85      1395\n",
      "\n"
     ]
    },
    {
     "name": "stderr",
     "output_type": "stream",
     "text": [
      "Epoch 34: 100%|██████████| 176/176 [01:32<00:00,  1.90it/s]\n"
     ]
    },
    {
     "name": "stdout",
     "output_type": "stream",
     "text": [
      "\n",
      "Epoch 34 | Avg Loss: 0.0113\n",
      "Validation Accuracy: 0.8602\n",
      "              precision    recall  f1-score   support\n",
      "\n",
      "           0       0.81      0.86      0.83       465\n",
      "           1       0.91      0.92      0.92       465\n",
      "           2       0.86      0.80      0.83       465\n",
      "\n",
      "    accuracy                           0.86      1395\n",
      "   macro avg       0.86      0.86      0.86      1395\n",
      "weighted avg       0.86      0.86      0.86      1395\n",
      "\n"
     ]
    },
    {
     "name": "stderr",
     "output_type": "stream",
     "text": [
      "Epoch 35: 100%|██████████| 176/176 [01:32<00:00,  1.90it/s]\n"
     ]
    },
    {
     "name": "stdout",
     "output_type": "stream",
     "text": [
      "\n",
      "Epoch 35 | Avg Loss: 0.0064\n",
      "Validation Accuracy: 0.8616\n",
      "              precision    recall  f1-score   support\n",
      "\n",
      "           0       0.85      0.82      0.84       465\n",
      "           1       0.92      0.92      0.92       465\n",
      "           2       0.82      0.85      0.83       465\n",
      "\n",
      "    accuracy                           0.86      1395\n",
      "   macro avg       0.86      0.86      0.86      1395\n",
      "weighted avg       0.86      0.86      0.86      1395\n",
      "\n"
     ]
    },
    {
     "name": "stderr",
     "output_type": "stream",
     "text": [
      "Epoch 36: 100%|██████████| 176/176 [01:32<00:00,  1.90it/s]\n"
     ]
    },
    {
     "name": "stdout",
     "output_type": "stream",
     "text": [
      "\n",
      "Epoch 36 | Avg Loss: 0.0074\n",
      "Validation Accuracy: 0.8530\n",
      "              precision    recall  f1-score   support\n",
      "\n",
      "           0       0.82      0.83      0.82       465\n",
      "           1       0.92      0.91      0.91       465\n",
      "           2       0.82      0.83      0.82       465\n",
      "\n",
      "    accuracy                           0.85      1395\n",
      "   macro avg       0.85      0.85      0.85      1395\n",
      "weighted avg       0.85      0.85      0.85      1395\n",
      "\n"
     ]
    },
    {
     "name": "stderr",
     "output_type": "stream",
     "text": [
      "Epoch 37: 100%|██████████| 176/176 [01:32<00:00,  1.90it/s]\n"
     ]
    },
    {
     "name": "stdout",
     "output_type": "stream",
     "text": [
      "\n",
      "Epoch 37 | Avg Loss: 0.0062\n",
      "Validation Accuracy: 0.8523\n",
      "              precision    recall  f1-score   support\n",
      "\n",
      "           0       0.80      0.87      0.83       465\n",
      "           1       0.91      0.91      0.91       465\n",
      "           2       0.85      0.78      0.81       465\n",
      "\n",
      "    accuracy                           0.85      1395\n",
      "   macro avg       0.85      0.85      0.85      1395\n",
      "weighted avg       0.85      0.85      0.85      1395\n",
      "\n",
      "\n",
      "Early stopping triggered\n"
     ]
    }
   ],
   "source": [
    "# === Enhanced Training Loop ===\n",
    "best_accuracy = 0\n",
    "patience_counter = 0\n",
    "total_steps = len(train_loader) * config['num_epochs']\n",
    "\n",
    "for epoch in range(config['num_epochs']):\n",
    "    model.train()\n",
    "    total_loss = 0\n",
    "    \n",
    "    for step, batch in enumerate(tqdm(train_loader, desc=f\"Epoch {epoch+1}\")):\n",
    "        optimizer.zero_grad()\n",
    "        inputs = {k: v.to(device) for k, v in batch.items()}\n",
    "        outputs = model(**inputs)\n",
    "        loss = outputs.loss\n",
    "        loss.backward()\n",
    "        \n",
    "        torch.nn.utils.clip_grad_norm_(model.parameters(), config['max_grad_norm'])\n",
    "        optimizer.step()\n",
    "        \n",
    "        total_loss += loss.item()\n",
    "    \n",
    "    scheduler.step()\n",
    "    \n",
    "    avg_loss = total_loss / len(train_loader)  # Normalize loss\n",
    "    # Enhanced Validation\n",
    "    model.eval()\n",
    "    all_preds, all_labels = [], []\n",
    "    with torch.no_grad():\n",
    "        for batch in dev_loader:\n",
    "            inputs = {k: v.to(device) for k, v in batch.items()}\n",
    "            outputs = model(**inputs)\n",
    "            preds = torch.argmax(outputs.logits, dim=-1)\n",
    "            all_preds.extend(preds.cpu().numpy())\n",
    "            all_labels.extend(batch['labels'].cpu().numpy())\n",
    "\n",
    "    report = classification_report(\n",
    "        all_labels, \n",
    "        all_preds, \n",
    "        target_names=['entailment', 'contradiction', 'neutral'],\n",
    "        output_dict=True\n",
    "    )\n",
    "    \n",
    "    current_accuracy = report.get('accuracy', 0.0)  # Safer accuracy extraction\n",
    "    print(f\"\\nEpoch {epoch+1} | Avg Loss: {avg_loss:.4f}\")\n",
    "    print(f\"Validation Accuracy: {current_accuracy:.4f}\")\n",
    "    print(classification_report(all_labels, all_preds))\n",
    "\n",
    "    # Early stopping with model checkpointing\n",
    "    if current_accuracy > best_accuracy:\n",
    "        best_accuracy = current_accuracy\n",
    "        patience_counter = 0\n",
    "        torch.save(model.state_dict(), 'best_model.pt')\n",
    "    else:\n",
    "        patience_counter += 1\n",
    "        if patience_counter >= config['early_stop_patience']:\n",
    "            print(\"\\nEarly stopping triggered\")\n",
    "            break"
   ]
  },
  {
   "cell_type": "code",
   "execution_count": null,
   "metadata": {
    "trusted": true
   },
   "outputs": [],
   "source": []
  }
 ],
 "metadata": {
  "kaggle": {
   "accelerator": "gpu",
   "dataSources": [
    {
     "datasetId": 6727352,
     "sourceId": 10833399,
     "sourceType": "datasetVersion"
    }
   ],
   "dockerImageVersionId": 30919,
   "isGpuEnabled": true,
   "isInternetEnabled": true,
   "language": "python",
   "sourceType": "notebook"
  },
  "kernelspec": {
   "display_name": "Python 3",
   "language": "python",
   "name": "python3"
  },
  "language_info": {
   "codemirror_mode": {
    "name": "ipython",
    "version": 3
   },
   "file_extension": ".py",
   "mimetype": "text/x-python",
   "name": "python",
   "nbconvert_exporter": "python",
   "pygments_lexer": "ipython3",
   "version": "3.10.12"
  }
 },
 "nbformat": 4,
 "nbformat_minor": 4
}
