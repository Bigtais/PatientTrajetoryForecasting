{
 "cells": [
  {
   "cell_type": "code",
   "execution_count": 12,
   "id": "b7a80cc0-f6d5-4ab6-9283-c88f6b400505",
   "metadata": {},
   "outputs": [],
   "source": [
    "%load_ext autoreload\n",
    "%autoreload 2"
   ]
  },
  {
   "cell_type": "code",
   "execution_count": 13,
   "id": "66d55fd5-2fd3-4762-a30b-5f62a1b37234",
   "metadata": {},
   "outputs": [],
   "source": [
    "import os\n",
    "\n",
    "dir_name = \"PatientTrajectoryForecasting\"\n",
    "os.chdir(dir_name) if os.path.isdir(dir_name) else None"
   ]
  },
  {
   "cell_type": "code",
   "execution_count": 110,
   "id": "a2ebbf8c-92b5-4e71-8223-67c0f568749e",
   "metadata": {},
   "outputs": [],
   "source": [
    "from utils.data_processing import format_data, prepare_sequences, filter_codes, train_test_val_split, get_optimal_embedding_size\n",
    "from utils.utils import load_data, get_paths, store_files\n",
    "from dataclasses import dataclass\n",
    "import yaml"
   ]
  },
  {
   "cell_type": "code",
   "execution_count": 15,
   "id": "8591c6fa-9f64-45ed-86a7-5df6a1b9469b",
   "metadata": {},
   "outputs": [],
   "source": [
    "with open('paths.yaml', 'r') as file:\n",
    "    path_config = yaml.safe_load(file)"
   ]
  },
  {
   "cell_type": "code",
   "execution_count": 29,
   "id": "0d3b83fa-7bd4-48fc-9373-6c2feb7055b2",
   "metadata": {},
   "outputs": [],
   "source": [
    "@dataclass\n",
    "class Config:\n",
    "    strategy = 'SDP'\n",
    "    predict_procedure : bool = False\n",
    "    predict_drugs : bool = False\n",
    "    procedure : bool = not(predict_procedure)\n",
    "    drugs : bool = not(predict_drugs)\n",
    "    truncate : bool = True\n",
    "    pad : bool = True\n",
    "    input_max_length :int = 448\n",
    "    target_max_length :int = 64\n",
    "    test_size : float = 0.05\n",
    "    valid_size : float = 0.05\n",
    "    \n",
    "config = Config()"
   ]
  },
  {
   "cell_type": "markdown",
   "id": "41805a7e-fa25-447d-aa90-e2e1dd54236b",
   "metadata": {},
   "source": [
    "# This first part is for preparing the data"
   ]
  },
  {
   "cell_type": "code",
   "execution_count": null,
   "id": "d399cf07-290a-46d3-9c81-cde7f6e6a355",
   "metadata": {},
   "outputs": [],
   "source": [
    "train_data_path = get_paths(path_config, config.strategy, config.predict_procedure, config.predict_procedure, train = True)"
   ]
  },
  {
   "cell_type": "code",
   "execution_count": null,
   "id": "b32fc14a-bced-4f3f-a0be-6d9db6df6b8e",
   "metadata": {},
   "outputs": [],
   "source": [
    "patients_visits_sequences, tokens_to_ids_map, ids_to_types_map = load_data(train = False)"
   ]
  },
  {
   "cell_type": "code",
   "execution_count": null,
   "id": "fd7c8552-3f4d-4218-a509-b67b44001919",
   "metadata": {},
   "outputs": [],
   "source": [
    "source_target_sequences = format_data(patients_visits_sequences, config.strategy)"
   ]
  },
  {
   "cell_type": "code",
   "execution_count": null,
   "id": "b3dac628-188c-46f3-9548-567a0678a09b",
   "metadata": {},
   "outputs": [],
   "source": [
    "source_target_sequences, _ = filter_codes(source_target_sequences, ids_to_types_map, config.procedure, config.drugs,\\\n",
    "                                         reset_target_map = False )"
   ]
  },
  {
   "cell_type": "code",
   "execution_count": null,
   "id": "85c26642-de71-4a71-9c24-be099aed8e9e",
   "metadata": {},
   "outputs": [],
   "source": [
    "store_files(source_target_sequences = source_target_sequences,\n",
    "            ids_to_types_map = ids_to_types_map, \n",
    "            tokens_to_ids_map = tokens_to_ids_map,\n",
    "            ids_to_tokens_map = ids_to_tokens_map, \n",
    "            output_file = train_data_path['train_data_path'],\n",
    "            train = True)"
   ]
  },
  {
   "cell_type": "markdown",
   "id": "8608da5d-6cd9-4ce2-9e58-56f91d8cd127",
   "metadata": {},
   "source": [
    "# Load data"
   ]
  },
  {
   "cell_type": "markdown",
   "id": "ad8fa61c-e490-4c24-a429-7a6d19e56519",
   "metadata": {},
   "source": [
    "## Next time start from here if using the same codes & strategy:"
   ]
  },
  {
   "cell_type": "code",
   "execution_count": 22,
   "id": "58b56d19-3f8b-44ad-b2aa-520cf90fd624",
   "metadata": {},
   "outputs": [
    {
     "name": "stdout",
     "output_type": "stream",
     "text": [
      "\u001b[0m\u001b[01;34mInp_d_p_dr_out_d\u001b[0m/\n"
     ]
    }
   ],
   "source": [
    "ls outputData/SDP/"
   ]
  },
  {
   "cell_type": "code",
   "execution_count": 18,
   "id": "203d846c-bc5c-42ad-8c7d-32e797e4fade",
   "metadata": {},
   "outputs": [
    {
     "name": "stdout",
     "output_type": "stream",
     "text": [
      "True\n"
     ]
    }
   ],
   "source": [
    "train_data_path = get_paths(path_config, config.strategy, config.predict_procedure, config.predict_procedure, train = True)"
   ]
  },
  {
   "cell_type": "code",
   "execution_count": 24,
   "id": "15d52bf5-ce53-4a63-90d4-9acda8320c3c",
   "metadata": {},
   "outputs": [],
   "source": [
    "source_target_sequences, ids_to_types_map, tokens_to_ids_map, ids_to_tokens_map = load_data(train_data_path['train_data_path'], train = True)"
   ]
  },
  {
   "cell_type": "code",
   "execution_count": 25,
   "id": "91cc184c-88c1-4894-a352-33dd52f391ed",
   "metadata": {},
   "outputs": [],
   "source": [
    "source_sequences, target_sequences = prepare_sequences(source_target_sequences, tokens_to_ids_map, config.truncate , config.pad,\\\n",
    "                            config.input_max_length, config.target_max_length)"
   ]
  },
  {
   "cell_type": "code",
   "execution_count": 82,
   "id": "26cd0b6e-51b5-4128-8254-2ca8d5289336",
   "metadata": {},
   "outputs": [
    {
     "name": "stdout",
     "output_type": "stream",
     "text": [
      "must reformat, too much memory would be lost in embedding\n"
     ]
    }
   ],
   "source": [
    "data_properties = get_optimal_embedding_size(source_sequences, target_sequences)"
   ]
  },
  {
   "cell_type": "code",
   "execution_count": 105,
   "id": "c7d3e524-5bde-4779-9a94-d15892f4ff5b",
   "metadata": {},
   "outputs": [],
   "source": [
    "train_data_path = get_paths(path_config, config.strategy, config.predict_procedure, config.predict_procedure, train = True, processed_data = True)"
   ]
  },
  {
   "cell_type": "code",
   "execution_count": 107,
   "id": "936e1aa4-4802-47a6-8b07-bf6dd0bfc0e8",
   "metadata": {},
   "outputs": [
    {
     "name": "stdout",
     "output_type": "stream",
     "text": [
      "dumping in outputData/SDP/Inp_d_p_dr_out_d/processed_data/\n"
     ]
    }
   ],
   "source": [
    "store_files(**data_properties, processed_data = True, output_file=train_data_path['processed_data_path'])"
   ]
  },
  {
   "cell_type": "code",
   "execution_count": 111,
   "id": "3cf5b9bb-591c-4d5c-8c22-19791a4bb8da",
   "metadata": {},
   "outputs": [
    {
     "name": "stdout",
     "output_type": "stream",
     "text": [
      "new_to_old_ids_source file not availble, mapping is the same as the old on\n"
     ]
    }
   ],
   "source": [
    "source_sequences, target_sequences, _ , new_to_old_ids_target = load_data(train_data_path['processed_data_path'], processed_data = True)"
   ]
  },
  {
   "cell_type": "code",
   "execution_count": 27,
   "id": "b90c8367-4dca-4ee3-b1e4-dd2284e713f2",
   "metadata": {},
   "outputs": [],
   "source": [
    "train, test, val = train_test_val_split(source_sequences, target_sequences, test_size = 0.1, valid_size = 0.1)"
   ]
  }
 ],
 "metadata": {
  "kernelspec": {
   "display_name": "Python 3 (ipykernel)",
   "language": "python",
   "name": "python3"
  },
  "language_info": {
   "codemirror_mode": {
    "name": "ipython",
    "version": 3
   },
   "file_extension": ".py",
   "mimetype": "text/x-python",
   "name": "python",
   "nbconvert_exporter": "python",
   "pygments_lexer": "ipython3",
   "version": "3.11.8"
  }
 },
 "nbformat": 4,
 "nbformat_minor": 5
}
